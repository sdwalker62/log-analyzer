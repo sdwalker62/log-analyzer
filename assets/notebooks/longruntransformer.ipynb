{
 "cells": [
  {
   "cell_type": "markdown",
   "metadata": {
    "id": "ejXAKpdM7vpW"
   },
   "source": [
    "# Setup"
   ]
  },
  {
   "cell_type": "markdown",
   "metadata": {
    "id": "KZmbFWc97xsl"
   },
   "source": [
    "Feel free to change"
   ]
  },
  {
   "cell_type": "code",
   "execution_count": 1,
   "metadata": {
    "id": "QLnvgfRy2U1H"
   },
   "outputs": [
    {
     "name": "stderr",
     "output_type": "stream",
     "text": [
      "2021-07-08 12:19:14.192274: I tensorflow/stream_executor/platform/default/dso_loader.cc:49] Successfully opened dynamic library libcudart.so.11.0\n",
      "/opt/conda/lib/python3.8/site-packages/gensim/similarities/__init__.py:15: UserWarning: The gensim.similarities.levenshtein submodule is disabled, because the optional Levenshtein package <https://pypi.org/project/python-Levenshtein/> is unavailable. Install Levenhstein (e.g. `pip install python-Levenshtein`) to suppress this warning.\n",
      "  warnings.warn(msg)\n"
     ]
    }
   ],
   "source": [
    "# -- Base -- #\n",
    "import os\n",
    "import random\n",
    "import joblib\n",
    "import logging\n",
    "import time\n",
    "import re\n",
    "import io\n",
    "from datetime import datetime\n",
    "from tqdm import tqdm\n",
    "from tqdm.auto import trange\n",
    "import ipdb\n",
    "from copy import deepcopy\n",
    "from dataclasses import dataclass\n",
    "import sys, getopt\n",
    "import json\n",
    "from pathlib import Path\n",
    "import yaml\n",
    "import shutil\n",
    "import csv\n",
    "from typing import (\n",
    "    List,\n",
    "    Dict\n",
    ")\n",
    "from yaspin import yaspin\n",
    "from yaspin.spinners import Spinners\n",
    "\n",
    "# -- Tokenizer -- #\n",
    "import tokenizers\n",
    "from tokenizers import Tokenizer\n",
    "from tokenizers.models import WordPiece\n",
    "from tokenizers import normalizers\n",
    "\n",
    "from tokenizers.normalizers import (\n",
    "    Lowercase,\n",
    "    NFD,\n",
    "    StripAccents\n",
    ")\n",
    "\n",
    "from tokenizers.pre_tokenizers import Whitespace\n",
    "from tokenizers.processors import TemplateProcessing\n",
    "from tokenizers.trainers import WordPieceTrainer\n",
    "from tokenizers import decoders\n",
    "\n",
    "# -- PreTrained BERT -- #\n",
    "import transformers\n",
    "from transformers import TFAlbertForSequenceClassification\n",
    "from transformers import PreTrainedTokenizerFast\n",
    "from transformers import TFTrainer\n",
    "\n",
    "# -- Metrics -- #\n",
    "import numpy as np\n",
    "import pandas as pd\n",
    "import sqlite3 as sql\n",
    "import tensorboard\n",
    "\n",
    "# -- Tensorflow -- #\n",
    "import tensorflow as tf\n",
    "from tensorflow.keras.metrics import Mean\n",
    "from tensorflow.keras.losses import SparseCategoricalCrossentropy\n",
    "from tensorflow.keras.optimizers import Adam\n",
    "\n",
    "from tensorflow.keras.layers import (\n",
    "    Softmax,\n",
    "    Dense,\n",
    "    AdditiveAttention,\n",
    "    MultiHeadAttention,\n",
    "    Layer\n",
    ")\n",
    "\n",
    "from tensorflow.keras.layers import (\n",
    "    LayerNormalization,\n",
    "    Dropout,\n",
    "    Embedding\n",
    ")\n",
    "\n",
    "from tensorflow.keras import (\n",
    "    Sequential,\n",
    "    Model\n",
    ")\n",
    "from tensorflow.train import Checkpoint, CheckpointManager\n",
    "from tensorflow.keras.preprocessing.sequence import pad_sequences\n",
    "from tensorflow.keras.models import load_model\n",
    "\n",
    "# -- Misc Models -- #\n",
    "import drain3\n",
    "from gensim.models.phrases import Phrases\n",
    "from sklearn.linear_model import LogisticRegression\n",
    "from sklearn.preprocessing import LabelEncoder\n",
    "from sklearn.decomposition import PCA\n",
    "from sklearn.decomposition import FastICA\n",
    "from sklearn.neighbors import NearestNeighbors\n",
    "from sklearn.mixture import GaussianMixture\n",
    "from sklearn.cluster import AffinityPropagation\n",
    "from sklearn.cluster import KMeans\n",
    "from sklearn.random_projection import SparseRandomProjection\n",
    "from sklearn.svm import SVC\n",
    "\n",
    "# -- Dash -- #\n",
    "import dash\n",
    "import dash_table\n",
    "from jupyter_dash import JupyterDash\n",
    "import dash_core_components as dcc\n",
    "import dash_html_components as html\n",
    "\n",
    "from dash.dependencies import (\n",
    "    Input,\n",
    "    Output,\n",
    "    State\n",
    ")\n",
    "\n",
    "# import plotly.io as pio\n",
    "# import plotly.express as px\n",
    "from dash import no_update\n",
    "from flask_caching import Cache\n",
    "\n",
    "%load_ext tensorboard"
   ]
  },
  {
   "cell_type": "code",
   "execution_count": 2,
   "metadata": {},
   "outputs": [
    {
     "name": "stdout",
     "output_type": "stream",
     "text": [
      "/home/jovyan/assets\n"
     ]
    }
   ],
   "source": [
    "cd .."
   ]
  },
  {
   "cell_type": "code",
   "execution_count": 3,
   "metadata": {},
   "outputs": [],
   "source": [
    "from libs.transformers.src.transformers.data.data_tf_collator import TFDataCollatorForLanguageModeling"
   ]
  },
  {
   "cell_type": "code",
   "execution_count": 5,
   "metadata": {},
   "outputs": [],
   "source": [
    "def convert_sqlite_to_csv(inputFolder, ext, tableName):\n",
    "    \"\"\" inputFolder - Folder where sqlite files are located. \n",
    "        ext - Extension of your sqlite file (eg. db, sqlite, sqlite3 etc.)\n",
    "        tableName - table name from which you want to select the data.\n",
    "    \"\"\"\n",
    "    csvWriter = csv.writer(open(inputFolder+'/output.csv', 'w', newline=''))\n",
    "    for file1 in os.listdir(inputFolder):\n",
    "        if file1.endswith('.'+ext):\n",
    "            conn = sql.connect(inputFolder+'/'+file1)\n",
    "            cursor = conn.cursor()\n",
    "            cursor.execute(\"SELECT * FROM \"+tableName)\n",
    "            rows = cursor.fetchall()\n",
    "            for row in rows:\n",
    "                csvWriter.writerow(row)\n",
    "            continue\n",
    "        else:\n",
    "            continue"
   ]
  },
  {
   "cell_type": "markdown",
   "metadata": {
    "id": "4L19JQx8YwmH"
   },
   "source": [
    "Extensions"
   ]
  },
  {
   "cell_type": "code",
   "execution_count": 6,
   "metadata": {},
   "outputs": [
    {
     "name": "stderr",
     "output_type": "stream",
     "text": [
      "2021-07-08 12:19:25.526853: I tensorflow/compiler/jit/xla_cpu_device.cc:41] Not creating XLA devices, tf_xla_enable_xla_devices not set\n",
      "2021-07-08 12:19:25.528362: I tensorflow/stream_executor/platform/default/dso_loader.cc:49] Successfully opened dynamic library libcuda.so.1\n",
      "2021-07-08 12:19:25.581405: I tensorflow/stream_executor/cuda/cuda_gpu_executor.cc:941] successful NUMA node read from SysFS had negative value (-1), but there must be at least one NUMA node, so returning NUMA node zero\n",
      "2021-07-08 12:19:25.581831: I tensorflow/core/common_runtime/gpu/gpu_device.cc:1720] Found device 0 with properties: \n",
      "pciBusID: 0000:0a:00.0 name: GeForce RTX 2080 Ti computeCapability: 7.5\n",
      "coreClock: 1.635GHz coreCount: 68 deviceMemorySize: 10.76GiB deviceMemoryBandwidth: 573.69GiB/s\n",
      "2021-07-08 12:19:25.581848: I tensorflow/stream_executor/platform/default/dso_loader.cc:49] Successfully opened dynamic library libcudart.so.11.0\n",
      "2021-07-08 12:19:25.594528: I tensorflow/stream_executor/platform/default/dso_loader.cc:49] Successfully opened dynamic library libcublas.so.11\n",
      "2021-07-08 12:19:25.594577: I tensorflow/stream_executor/platform/default/dso_loader.cc:49] Successfully opened dynamic library libcublasLt.so.11\n",
      "2021-07-08 12:19:25.602611: I tensorflow/stream_executor/platform/default/dso_loader.cc:49] Successfully opened dynamic library libcufft.so.10\n",
      "2021-07-08 12:19:25.605980: I tensorflow/stream_executor/platform/default/dso_loader.cc:49] Successfully opened dynamic library libcurand.so.10\n",
      "2021-07-08 12:19:25.618310: I tensorflow/stream_executor/platform/default/dso_loader.cc:49] Successfully opened dynamic library libcusolver.so.10\n",
      "2021-07-08 12:19:25.621730: I tensorflow/stream_executor/platform/default/dso_loader.cc:49] Successfully opened dynamic library libcusparse.so.11\n",
      "2021-07-08 12:19:25.622699: I tensorflow/stream_executor/platform/default/dso_loader.cc:49] Successfully opened dynamic library libcudnn.so.8\n",
      "2021-07-08 12:19:25.622847: I tensorflow/stream_executor/cuda/cuda_gpu_executor.cc:941] successful NUMA node read from SysFS had negative value (-1), but there must be at least one NUMA node, so returning NUMA node zero\n",
      "2021-07-08 12:19:25.623478: I tensorflow/stream_executor/cuda/cuda_gpu_executor.cc:941] successful NUMA node read from SysFS had negative value (-1), but there must be at least one NUMA node, so returning NUMA node zero\n",
      "2021-07-08 12:19:25.624169: I tensorflow/core/common_runtime/gpu/gpu_device.cc:1862] Adding visible gpu devices: 0\n"
     ]
    }
   ],
   "source": [
    "import tensorflow as tf\n",
    "gpu_devices = tf.config.experimental.list_physical_devices('GPU')\n",
    "for device in gpu_devices:\n",
    "    tf.config.experimental.set_memory_growth(device, True)"
   ]
  },
  {
   "cell_type": "code",
   "execution_count": 7,
   "metadata": {},
   "outputs": [
    {
     "name": "stdout",
     "output_type": "stream",
     "text": [
      "Num GPUs Available:  1\n"
     ]
    }
   ],
   "source": [
    "print(\"Num GPUs Available: \", len(tf.config.list_physical_devices('GPU')))"
   ]
  },
  {
   "cell_type": "code",
   "execution_count": 8,
   "metadata": {},
   "outputs": [
    {
     "data": {
      "text/plain": [
       "'2.4.1'"
      ]
     },
     "execution_count": 8,
     "metadata": {},
     "output_type": "execute_result"
    }
   ],
   "source": [
    "tf.__version__"
   ]
  },
  {
   "cell_type": "markdown",
   "metadata": {
    "id": "0N_5Z7Gg4Jl5"
   },
   "source": [
    "## Environmental Variables\n",
    "\n",
    "\n",
    "---\n",
    "\n"
   ]
  },
  {
   "cell_type": "code",
   "execution_count": 9,
   "metadata": {
    "id": "xvZC0zAR4NUe"
   },
   "outputs": [],
   "source": [
    "SOURCE = '/home/' + os.environ['USER']\n",
    "CONTAINER = 'core.soaesb'"
   ]
  },
  {
   "cell_type": "markdown",
   "metadata": {
    "id": "D8EnuKFhAuER",
    "tags": []
   },
   "source": [
    "## Logging"
   ]
  },
  {
   "cell_type": "code",
   "execution_count": 10,
   "metadata": {
    "id": "GUivYRdyAstr"
   },
   "outputs": [],
   "source": [
    "logging.basicConfig(format='%(asctime)s %(levelname)s | %(message)s',\n",
    "                    level=logging.INFO,\n",
    "                    stream=sys.stdout)\n",
    "logger = logging.getLogger(__name__)"
   ]
  },
  {
   "cell_type": "markdown",
   "metadata": {
    "id": "ITSJA5hWASDn",
    "tags": []
   },
   "source": [
    "# Define Dataset"
   ]
  },
  {
   "cell_type": "markdown",
   "metadata": {
    "id": "QnCJ678Ka-T1"
   },
   "source": [
    "## Define Database Functions"
   ]
  },
  {
   "cell_type": "code",
   "execution_count": 11,
   "metadata": {
    "id": "Gwi7HlrBkwwl"
   },
   "outputs": [],
   "source": [
    "def database_builder(path: str) -> pd.DataFrame():\n",
    "    logger.info('Building DataFrame ...')\n",
    "    (_, _, files) = next(os.walk(path))\n",
    "    sql_query = 'SELECT * FROM logs'\n",
    "    data = []\n",
    "    for f in files:\n",
    "        if '.db' in f:\n",
    "            conn = create_connection(path + f)\n",
    "            d = pd.read_sql_query(sql_query, conn)\n",
    "            data.append(d)\n",
    "    logger.info('...complete!')\n",
    "    return pd.concat(data)\n",
    "\n",
    "\n",
    "def create_connection(path: str) -> sql.Connection:\n",
    "    \"\"\"\n",
    "    Creates a database connection\n",
    "    :param path: str\n",
    "        path to database object\n",
    "    :return sql.Connection\n",
    "        a connection to the database\n",
    "    \"\"\"\n",
    "    try:\n",
    "        conn = sql.connect(path)\n",
    "        logger.info('Connected to database ' + path)\n",
    "        return conn\n",
    "    except sql.Error as e:\n",
    "        logger.warning(e)"
   ]
  },
  {
   "cell_type": "markdown",
   "metadata": {
    "id": "ekFXItHibG7r"
   },
   "source": [
    "## Define Dataset Main"
   ]
  },
  {
   "cell_type": "code",
   "execution_count": 12,
   "metadata": {
    "colab": {
     "base_uri": "https://localhost:8080/"
    },
    "id": "50ge2uap_kTN",
    "outputId": "af603cfd-5c79-4772-b0d7-9ab271eb4f4f"
   },
   "outputs": [
    {
     "name": "stdout",
     "output_type": "stream",
     "text": [
      "2021-07-08 12:19:31,823 INFO | Building DataFrame ...\n",
      "2021-07-08 12:19:31,828 INFO | Connected to database /home/jovyan/data/elastic_logs.db\n",
      "2021-07-08 12:19:32,446 INFO | ...complete!\n"
     ]
    }
   ],
   "source": [
    "dataset = database_builder(SOURCE + '/data/')\n",
    "container_dataset = dataset[dataset['container_name'] == CONTAINER]"
   ]
  },
  {
   "cell_type": "markdown",
   "metadata": {
    "id": "lkC2MdmCBR7C"
   },
   "source": [
    "# W2V Pipeline"
   ]
  },
  {
   "cell_type": "markdown",
   "metadata": {
    "id": "3wFAAOw-q3w5",
    "tags": []
   },
   "source": [
    "## Pipeline Objects"
   ]
  },
  {
   "cell_type": "markdown",
   "metadata": {},
   "source": [
    "### Configuration"
   ]
  },
  {
   "cell_type": "code",
   "execution_count": 13,
   "metadata": {},
   "outputs": [],
   "source": [
    "def set_attributes(self, config: dict):\n",
    "    try:\n",
    "        config = config[self.__class__.__name__]\n",
    "    except Exception as e:\n",
    "        logger.warning(e)\n",
    "        logger.warning('No configuration found for ' +\n",
    "                       self.__class__.__name__)\n",
    "\n",
    "    for attr in config.keys():\n",
    "        setattr(self, attr, config[attr])\n",
    "\n",
    "\n",
    "@dataclass\n",
    "class PreprocessingGlobalConfig:\n",
    "    embed_size: int = 512\n",
    "    max_vocab_size: int = 2000\n",
    "    buffer_size: int = 10000\n",
    "    global_training: bool = True\n",
    "    path: str = '/results/'\n",
    "\n",
    "    def load(self, config):\n",
    "        set_attributes(self, config)\n",
    "\n",
    "\n",
    "@dataclass\n",
    "class PhraserModelConfig:\n",
    "    min_count: int = 5\n",
    "    threshold: float = 7\n",
    "    load_model: bool = True\n",
    "    save_model: bool = False\n",
    "    training: bool = True\n",
    "    model_name: str = 'phrase_model.joblib'\n",
    "\n",
    "    def load(self, config):\n",
    "        set_attributes(self, config)\n",
    "\n",
    "\n",
    "@dataclass\n",
    "class TextClusteringConfig:\n",
    "    load_model: bool = True\n",
    "    save_model: bool = False\n",
    "    training: bool = True\n",
    "    model_name: str = 'template_miner.joblib'\n",
    "\n",
    "    def load(self, config):\n",
    "        set_attributes(self, config)\n",
    "\n",
    "\n",
    "class PreprocessingPipelineConfig:\n",
    "    def __init__(self):\n",
    "        self.PreprocessingGlobalConfig = PreprocessingGlobalConfig()\n",
    "        self.PhraserModelConfig = PhraserModelConfig()\n",
    "        self.TextClusteringConfig = TextClusteringConfig()\n",
    "\n",
    "    def load(self, path):\n",
    "        try:\n",
    "            with open(path) as f:\n",
    "                preprocessing_config = yaml.load(f, Loader=yaml.FullLoader)\n",
    "        except FileNotFoundError as e:\n",
    "            logger.warning(e)\n",
    "            return None\n",
    "\n",
    "        self.PreprocessingGlobalConfig.load(preprocessing_config)\n",
    "        self.PhraserModelConfig.load(preprocessing_config)\n",
    "        self.TextClusteringConfig.load(preprocessing_config)"
   ]
  },
  {
   "cell_type": "markdown",
   "metadata": {},
   "source": [
    "### Tokenizer"
   ]
  },
  {
   "cell_type": "code",
   "execution_count": 14,
   "metadata": {},
   "outputs": [],
   "source": [
    "class PrimeTokenizer:\n",
    "    def __init__(self, max_seq_length: int):\n",
    "        self.prime_tokenizer = Tokenizer(WordPiece(unk_token=\"[UNK]\"))\n",
    "\n",
    "        self.prime_tokenizer.normalizer = normalizers.Sequence([NFD(), Lowercase(), StripAccents()])\n",
    "\n",
    "        self.prime_tokenizer.pre_tokenizer = Whitespace()\n",
    "\n",
    "        self.prime_tokenizer.post_processor = TemplateProcessing(\n",
    "            single=\"[CLS] $A [SEP]\",\n",
    "            pair=\"[CLS] $A [SEP] $B:1 [SEP]:1\",\n",
    "            special_tokens=[\n",
    "                (\"[CLS]\", 1),\n",
    "                (\"[SEP]\", 2),\n",
    "            ],\n",
    "        )\n",
    "\n",
    "        self.trainer = WordPieceTrainer(\n",
    "            vocab_size=153411, special_tokens=[\"[UNK]\", \"[CLS]\", \"[SEP]\", \"[PAD]\", \"[MASK]\"]\n",
    "        )\n",
    "\n",
    "        self.prime_tokenizer.decoder = decoders.WordPiece()\n",
    "        self.prime_tokenizer.enable_padding(length=max_seq_length)\n",
    "        self.prime_tokenizer.enable_truncation(max_seq_length)\n",
    "\n",
    "    def text_to_sequence(self, input_) -> List[tokenizers.Encoding]:\n",
    "        if type(input_) is list:\n",
    "            return self.prime_tokenizer.encode_batch(input_)\n",
    "        return self.prime_tokenizer.encode(input_)\n",
    "\n",
    "    def sequence_to_text(self, input_) -> List[str]:\n",
    "        if type(input_) is list:\n",
    "            return self.prime_tokenizer.decode_batch(batch)\n",
    "        return self.prime_tokenizer.decode(input_)\n",
    "\n",
    "    def train(self, data):\n",
    "        log_itr = iter(data)\n",
    "#         tqdm_log_itr = tqdm(iterable=log_itr, total=len(data))\n",
    "# tqdm_log_itr.__iter__()\n",
    "        self.prime_tokenizer.train_from_iterator(log_itr, self.trainer)\n",
    "        self.save()\n",
    "\n",
    "    def get_tokenizer(self) -> Tokenizer:\n",
    "        return self.prime_tokenizer\n",
    "\n",
    "    def get_vocab(self) -> Dict[str, int]:\n",
    "        return self.prime_tokenizer.get_vocab()\n",
    "    \n",
    "    def get_vocab_size(self) -> int:\n",
    "        return self.prime_tokenizer.get_vocab_size()\n",
    "    \n",
    "    def save(self):\n",
    "        self.prime_tokenizer.save(SOURCE + \"/results/prime_tokenizer.json\")\n",
    "        \n",
    "    def load(self):\n",
    "        self.prime_tokenizer = Tokenizer.from_file(SOURCE + \"/results/prime_tokenizer.json\")"
   ]
  },
  {
   "cell_type": "markdown",
   "metadata": {},
   "source": [
    "### Generic Save Model"
   ]
  },
  {
   "cell_type": "code",
   "execution_count": 15,
   "metadata": {},
   "outputs": [],
   "source": [
    "def save_model(model, path):\n",
    "#     if not os.path.exists(path):\n",
    "#         return\n",
    "\n",
    "    if os.path.isfile(path):\n",
    "        os.remove(path)\n",
    "#     elif os.path.isdir(path):\n",
    "#         shutil.rmtree(path)\n",
    "#         return\n",
    "\n",
    "    joblib.dump(model, path)"
   ]
  },
  {
   "cell_type": "markdown",
   "metadata": {
    "heading_collapsed": "true",
    "id": "QLKVLZioq_2i",
    "tags": []
   },
   "source": [
    "### PhraseCaptureLayer"
   ]
  },
  {
   "cell_type": "code",
   "execution_count": 16,
   "metadata": {
    "id": "gFTBqUREEHLn"
   },
   "outputs": [],
   "source": [
    "class PhraserModel:\n",
    "\n",
    "    def __init__(self,\n",
    "                 config: PhraserModelConfig,\n",
    "                 global_config: PreprocessingGlobalConfig):\n",
    "\n",
    "        super(PhraserModel, self).__init__()\n",
    "        self.min_count = config.min_count\n",
    "        self.threshold = config.threshold\n",
    "        self.load_model = config.load_model\n",
    "        self.save_model = config.save_model\n",
    "        self.path = global_config.path\n",
    "        self.model_name = config.model_name\n",
    "        self.training = config.training\n",
    "\n",
    "        if self.load_model:\n",
    "            self.phrase_model = joblib.load(SOURCE +\n",
    "                                            self.path +\n",
    "                                            self.model_name)\n",
    "        else:\n",
    "            self.phrase_model = Phrases(min_count=self.min_count,\n",
    "                                        threshold=self.threshold)\n",
    "\n",
    "    def __call__(self, corpus: pd.DataFrame, training=None) -> list:\n",
    "        if training is None:\n",
    "            training = self.training\n",
    "            \n",
    "        def reorganize_return(corpus_with_phrases):\n",
    "            log_list = []\n",
    "            for tokenized_log in corpus_with_phrases:\n",
    "                log_list.append(' '.join(tokenized_log))\n",
    "            return log_list\n",
    "\n",
    "        split_corpus = [log.split(' ') for log in corpus['log']]\n",
    "\n",
    "        corpus_with_phrases = None\n",
    "        if not training:\n",
    "            frozen_model = self.phrase_model.freeze()\n",
    "            corpus_with_phrases = self.phrase_model.__getitem__(split_corpus)\n",
    "        else:\n",
    "            self.phrase_model.add_vocab(split_corpus)\n",
    "\n",
    "            if self.save_model:\n",
    "                save_model(self.phrase_model, SOURCE + self.path + self.model_name)\n",
    "\n",
    "            corpus_with_phrases = self.phrase_model.__getitem__(split_corpus)\n",
    "            \n",
    "        return reorganize_return(corpus_with_phrases)"
   ]
  },
  {
   "cell_type": "markdown",
   "metadata": {
    "heading_collapsed": "true",
    "id": "eb6Ncm7-rKLZ",
    "tags": []
   },
   "source": [
    "### TextClusteringLayer"
   ]
  },
  {
   "cell_type": "code",
   "execution_count": 17,
   "metadata": {},
   "outputs": [],
   "source": [
    "class TextClustering:\n",
    "\n",
    "    def __init__(self,\n",
    "                 config: TextClusteringConfig,\n",
    "                 global_config: PreprocessingGlobalConfig):\n",
    "\n",
    "        super(TextClustering, self).__init__()\n",
    "        self.load_model = config.load_model\n",
    "        self.save_model = config.save_model\n",
    "        self.path = global_config.path\n",
    "        self.model_name = config.model_name\n",
    "        self.training = config.training\n",
    "\n",
    "        if self.load_model is True:\n",
    "            self.template_miner = joblib.load(SOURCE +\n",
    "                                              self.path +\n",
    "                                              self.model_name)\n",
    "        else:\n",
    "            self.template_miner = drain3.TemplateMiner()\n",
    "\n",
    "    def __call__(self, corpus: list, training=None) -> list:\n",
    "        if training is None:\n",
    "            training = self.training\n",
    "            \n",
    "        if training:\n",
    "            for log in corpus:\n",
    "                self.template_miner.add_log_message(log)\n",
    "            if self.save_model:\n",
    "                save_model(self.template_miner,\n",
    "                           SOURCE + self.path + self.model_name)\n",
    "\n",
    "            for idx, log in enumerate(corpus):\n",
    "                template = self.template_miner.match(log).get_template()\n",
    "                corpus[idx] = template\n",
    "\n",
    "            return [re.sub(pattern=r' +',\n",
    "                           repl=' ',\n",
    "                           string=cluster) for cluster in corpus]\n",
    "        else:\n",
    "#             log_list = self.get_unique_templates()\n",
    "#             print(f'Length of the log list: {len(log_list)}')\n",
    "#             return log_list\n",
    "            log_list = []\n",
    "            log_set = set()\n",
    "            for log in corpus:\n",
    "                match_cluster = self.template_miner.match(log)\n",
    "                if match_cluster is None:\n",
    "                    match_cluster = self.template_miner.add_log_message(log)['template_mined']\n",
    "                    log_set.add(match_cluster)\n",
    "                else:\n",
    "                    log_set.add(match_cluster.get_template())\n",
    "        \n",
    "#             l = [re.sub(pattern=r' +',\n",
    "#                            repl=' ',\n",
    "#                            string=cluster) for cluster in log_list]\n",
    "            return list(log_set)\n",
    "        \n",
    "    def get_unique_templates(self) -> list:\n",
    "        template_list = []\n",
    "        for cluster in self.template_miner.drain.clusters:\n",
    "            template_list.append(cluster.get_template())\n",
    "        return [re.sub(pattern=r' +',\n",
    "                       repl=' ',\n",
    "                       string=cluster) for cluster in template_list]"
   ]
  },
  {
   "cell_type": "markdown",
   "metadata": {
    "id": "OvhQ3bvitv5b"
   },
   "source": [
    "### Preprocessing Pipeline"
   ]
  },
  {
   "cell_type": "code",
   "execution_count": 18,
   "metadata": {},
   "outputs": [],
   "source": [
    "def process_all_batches(n_iter, log_labels, batch_size):\n",
    "    batches = []\n",
    "\n",
    "    for idx in range(n_iter + 1):\n",
    "        log_batch, labels = process_batch(dataset, idx, log_labels, batch_size)\n",
    "\n",
    "        batches.append((log_batch, labels))\n",
    "\n",
    "    return batches\n",
    "\n",
    "def process_batch(dataset: pd.DataFrame,\n",
    "                  idx: int,\n",
    "                  labels: dict,\n",
    "                  batch_size: int) -> tuple:\n",
    "    start_window = idx * batch_size\n",
    "    end_window = (idx + 1) * batch_size\n",
    "    batched_data = dataset.iloc[start_window:end_window]\n",
    "    encoded_batch = prime_tokenizer.text_to_sequence(batched_data['log'].to_list())\n",
    "    id_batch = [log.ids for log in encoded_batch]\n",
    "#     y_batch = labels[batched_data['label']]\n",
    "    y_batch = [labels[idx] for idx in batched_data['label']]\n",
    "\n",
    "    tf_idf = tf.convert_to_tensor(id_batch, dtype=tf.float32)\n",
    "    y_idf  = tf.convert_to_tensor(y_batch, dtype=tf.float32)\n",
    "    \n",
    "    return tf_idf, y_idf"
   ]
  },
  {
   "cell_type": "markdown",
   "metadata": {},
   "source": [
    "## Unsupervised Learning Pipeline"
   ]
  },
  {
   "cell_type": "code",
   "execution_count": 19,
   "metadata": {},
   "outputs": [],
   "source": [
    "from libs.transformers.src.transformers.models.bert.modeling_tf_bert import TFBertForPreTraining\n",
    "from libs.transformers.src.transformers.models.bert.configuration_bert import BertConfig"
   ]
  },
  {
   "cell_type": "code",
   "execution_count": 30,
   "metadata": {
    "id": "R_nmehscsdmv"
   },
   "outputs": [],
   "source": [
    "class UnsupervisedLearningPipeline:\n",
    "    def __init__(self, config: PreprocessingPipelineConfig, epochs=3, batch_size=50, seq_length=200):\n",
    "        self.normalized_logs = None\n",
    "        self.log_labels = None\n",
    "        self.bert_tokenizer = PrimeTokenizer(seq_length)\n",
    "        self.fast_tokenizer = None\n",
    "        self.train_dataset = None\n",
    "        self.token_logs = None\n",
    "        self.bert_config = None\n",
    "        self.BERT = None\n",
    "        self.max_seq_len = seq_length\n",
    "        self.n_logs = 0\n",
    "        self.n_iter = 0\n",
    "        self.epochs = epochs\n",
    "        self.batch_size = batch_size\n",
    "        self.logs_with_phrases = list()\n",
    "        self.logs_as_templates = None\n",
    "        \n",
    "        self.data_collator = None\n",
    "        \n",
    "        self.pm = PhraserModel(config.PhraserModelConfig, \n",
    "                               config.PreprocessingGlobalConfig)\n",
    "        \n",
    "        self.tc = TextClustering(config.TextClusteringConfig,\n",
    "                                 config.PreprocessingGlobalConfig)\n",
    "        \n",
    "    def normalize_logs(self, logs: pd.DataFrame) -> pd.DataFrame:\n",
    "        # remove timestamps and double spaces\n",
    "        regexp = re.compile(\n",
    "            r\"\"\"\n",
    "            (?:               # Match all enclosed\n",
    "            \\d{4}-\\d{2}-\\d{2} # YYYY-MM-DD\n",
    "            [\\sT]             # Accept either a space or T\n",
    "            \\d{2}:\\d{2}:\\d{2} # HH:MM:SS\n",
    "            ([.,]\\d{3}|\\s)    # Accept either a space or milliseconds\n",
    "            )                 # End timestamp match\n",
    "            | (?:\\s{2,})      # Remove double spaces   \n",
    "            | [^a-zA-Z\\d:]    # Clean non-alphanumeric characters\n",
    "            \"\"\", re.X)        # re.X enables comments and whitespace\n",
    "\n",
    "        c_logs = deepcopy(logs)\n",
    "        c_logs.loc[:, 'log'].replace(to_replace=regexp, \n",
    "                                     value=' ', \n",
    "                                     regex=True,\n",
    "                                     inplace=True)\n",
    "        return c_logs\n",
    "        \n",
    "    def extract_unique_labels(self) -> dict:\n",
    "        # -- Labels -- #\n",
    "        label_unique = self.normalized_logs['label'].unique()\n",
    "        binary_labels = LabelEncoder().fit_transform(label_unique)\n",
    "\n",
    "        log_labels = {}\n",
    "        for idx, label in enumerate(label_unique):\n",
    "            log_labels.update({\n",
    "                label: binary_labels[idx]\n",
    "            })\n",
    "        return log_labels\n",
    "    \n",
    "    def create_sentence_pairing(self):\n",
    "        first_seqs = []\n",
    "        second_seqs = []\n",
    "        nsp_labels = []\n",
    "        \n",
    "        log_list = self.normalized_logs['log'].to_list()\n",
    "        for idx in range(len(log_list)):\n",
    "            first_value = log_list[idx]\n",
    "            if random.random() > 0.5:\n",
    "                # Pair with proper following log sequence\n",
    "                second_value = log_list[(idx + 1) % len(log_list)]\n",
    "                \n",
    "                # IsNext Label\n",
    "                nsp_labels.append(0)\n",
    "            else:\n",
    "                # Pair with random log\n",
    "                rand_idx = random.randint(0, len(log_list) - 1)\n",
    "                second_value = log_list[rand_idx]\n",
    "                \n",
    "                # IsNotNext Label\n",
    "                nsp_labels.append(1)\n",
    "                \n",
    "            first_seqs.append(first_value)\n",
    "            second_seqs.append(second_value)\n",
    "            \n",
    "        nsp_labels = tf.reshape(tf.constant(nsp_labels), (self.n_iter, self.batch_size))\n",
    "            \n",
    "        return first_seqs, second_seqs, nsp_labels\n",
    "    \n",
    "    def collate_data(self, encodings):\n",
    "        # Assure data is non-ragged and are of type tf.Tensor\n",
    "        encodings['input_ids'] = tf.ragged.constant(encodings['input_ids']).to_tensor(0)\n",
    "        encodings['token_type_ids'] = tf.ragged.constant(encodings['token_type_ids']).to_tensor(0)\n",
    "        encodings['attention_mask'] = tf.ragged.constant(encodings['attention_mask']).to_tensor(0)\n",
    "        \n",
    "        self.data_collator = TFDataCollatorForLanguageModeling(self.fast_tokenizer, \n",
    "                                                               padding_length=self.max_seq_len, \n",
    "                                                               batch_size=self.batch_size)\n",
    "        \n",
    "        batch_encodings = tf.data.Dataset.from_tensor_slices(encodings.data)\n",
    "        \n",
    "        return self.data_collator(batch_encodings)\n",
    "    \n",
    "    def initialize_fast_tokenizer(self):\n",
    "        the_tokenizer_obj = self.bert_tokenizer.get_tokenizer()\n",
    "        fast_tokenizer = PreTrainedTokenizerFast(tokenizer_object=the_tokenizer_obj)\n",
    "        fast_tokenizer.model_max_length = self.max_seq_len\n",
    "        fast_tokenizer.unk_token = \"[UNK]\"\n",
    "        fast_tokenizer.sep_token = \"[SEP]\"\n",
    "        fast_tokenizer.pad_token = \"[PAD]\"\n",
    "        fast_tokenizer.cls_token = \"[CLS]\"\n",
    "        fast_tokenizer.mask_token = \"[MASK]\"\n",
    "        self.fast_tokenizer = fast_tokenizer\n",
    "        return fast_tokenizer\n",
    "    \n",
    "    def get_pre_training_data(self):\n",
    "        labels = self.normalized_logs['label'].to_list()\n",
    "        log_labels = [self.log_labels[l] for l in labels]\n",
    "\n",
    "        fast_tokenizer = self.initialize_fast_tokenizer()\n",
    "        \n",
    "        first_sequences, pair_sequences, nsp_labels = self.create_sentence_pairing()\n",
    "        \n",
    "        encodings = fast_tokenizer(first_sequences, pair_sequences, truncation=True, padding=False)\n",
    "                \n",
    "        encoded_objs = self.collate_data(encodings)\n",
    "        \n",
    "        pre_training_data = dict()\n",
    "        for key in list(encoded_objs)[0].keys():\n",
    "            pre_training_data[key] = tf.constant([x[key].numpy() for x in encoded_objs])\n",
    "        pre_training_data[\"next_sentence_label\"] = nsp_labels\n",
    "        \n",
    "        log_labels = tf.reshape(tf.constant(log_labels), (self.n_iter, self.batch_size))\n",
    "        \n",
    "        pre_train_dataset = tf.data.Dataset.from_tensor_slices((\n",
    "            pre_training_data,\n",
    "            log_labels\n",
    "        ))\n",
    "        \n",
    "        return pre_train_dataset\n",
    "\n",
    "    def train_bert_tokenizer(self, load_model=False):\n",
    "        if load_model:\n",
    "            self.bert_tokenizer.load()\n",
    "        else:\n",
    "            self.bert_tokenizer.train(self.logs_as_templates)\n",
    "\n",
    "    @staticmethod\n",
    "    def batch_to_tensor(batch) -> tf.Tensor:\n",
    "        enc_list = []\n",
    "        for enc_obj in batch:\n",
    "            enc_tensor = tf.convert_to_tensor(enc_obj, dtype=tf.int32)\n",
    "            enc_list.append(enc_tensor)\n",
    "        return tf.stack(enc_list, name='tensor_batch')\n",
    "\n",
    "    def serve_batch_w_idx(self, idx):\n",
    "        start_idx = idx * self.batch_size\n",
    "        end_idx = start_idx + self.batch_size\n",
    "        \n",
    "        log_batch = self.logs_as_templates[start_idx:end_idx].tolist()\n",
    "        batch = self.bert_tokenizer.text_to_sequence(log_batch)\n",
    "        batch_ids = [log.ids for log in batch]\n",
    "        return self.batch_to_tensor(batch_ids)\n",
    "    \n",
    "    def serve_batch(self, batch):\n",
    "        log_batch = self.bert_tokenizer.text_to_sequence(batch)\n",
    "        batch_ids = [log.ids for log in log_batch]\n",
    "        return self.batch_to_tensor(batch_ids)\n",
    "\n",
    "    def pre_train_bert(self):\n",
    "        self.bert_config = BertConfig(\n",
    "            vocab_size=self.bert_tokenizer.get_vocab_size(),\n",
    "            hidden_size=512,\n",
    "            num_hidden_layers=8,\n",
    "            num_attention_heads=8\n",
    "        )\n",
    "\n",
    "        self.BERT = TFBertForPreTraining(self.bert_config)\n",
    "        optimizer = tf.keras.optimizers.Adam(learning_rate=5e-5)\n",
    "        self.BERT.compile(optimizer=optimizer, loss=self.BERT.compute_loss)\n",
    "                \n",
    "        with yaspin(text=\"\", color='blue') as sp:\n",
    "            for epoch in range(self.epochs):\n",
    "                sp.text = f'Training BERT EPOCH {epoch}/{self.epochs}'\n",
    "                for batch in self.train_dataset.as_numpy_iterator():\n",
    "                    outputs = self.BERT(\n",
    "                        input_ids=batch[0][\"input_ids\"],\n",
    "                        attention_mask=batch[0][\"attention_mask\"],\n",
    "                        token_type_ids=batch[0][\"token_type_ids\"],\n",
    "                        labels=batch[0][\"labels\"],\n",
    "                        next_sentence_label=batch[0][\"next_sentence_label\"],\n",
    "                        training=True,\n",
    "                        output_attentions=True,\n",
    "                        output_hidden_states=True,\n",
    "                        return_dict=True\n",
    "                    )\n",
    "\n",
    "            sp.text = \"\"\n",
    "            sp.ok('✔ Finished Training Epochs')\n",
    "            \n",
    "        return outputs\n",
    "    \n",
    "    def run_bert(self, batch):\n",
    "        return self.BERT(batch,\n",
    "                         output_attentions=True)\n",
    "\n",
    "    def fit(self, logs: pd.DataFrame):\n",
    "        assert len(logs.index) > 0, 'process received an empty dataframe!'\n",
    "        \n",
    "        with yaspin(text=\"Normalizing Logs\", color='green') as sp:\n",
    "            self.normalized_logs = self.normalize_logs(logs)\n",
    "            sp.text = \"\"\n",
    "            sp.ok('✔ Completed log normalization')\n",
    "            \n",
    "            sp.text = \"Extracting phrases\"\n",
    "            self.logs_with_phrases = self.pm(self.normalized_logs)\n",
    "            sp.text = \"\"\n",
    "            sp.ok('✔ Completed phrase extraction')\n",
    "            \n",
    "            sp.text = \"Converting to log templates\"\n",
    "            self.logs_as_templates = np.array(self.tc(self.logs_with_phrases))\n",
    "            sp.text = \"\"\n",
    "            sp.ok('✔ Completed log template conversion')\n",
    "        \n",
    "            sp.text = \"Extracting Unique Labels\"\n",
    "            self.log_labels = self.extract_unique_labels()\n",
    "            sp.text = \"\"\n",
    "            sp.ok('✔ Completed extracting unique labels')\n",
    "\n",
    "            sp.text = \"Training Tokenizer\"\n",
    "            self.train_bert_tokenizer()\n",
    "            sp.text = \"\"\n",
    "            sp.ok('✔ Completed training of custom tokenizer')\n",
    "            \n",
    "            self.n_logs = len(self.normalized_logs['log'])\n",
    "            self.n_iter = self.n_logs // self.batch_size\n",
    "                        \n",
    "            sp.text = \"Processing training dataset\"\n",
    "            self.train_dataset = self.get_pre_training_data()\n",
    "            sp.text = \"\"\n",
    "            sp.ok('✔ Completed processing training dataset')\n",
    "            \n",
    "            sp.text = \"Pretraining BERT\"\n",
    "            outputs = self.pre_train_bert()\n",
    "            sp.text = \"\"\n",
    "            sp.ok('✔ Completed BERT pretraining')\n",
    "            \n",
    "        return outputs\n",
    "        \n",
    "    def transform(self, batch: pd.DataFrame):\n",
    "        x = self.normalize_logs(batch)\n",
    "        x = self.pm(x, False)\n",
    "        x = list(self.tc(x, False))\n",
    "        x = self.serve_batch(x)\n",
    "        return self.run_bert(x)"
   ]
  },
  {
   "cell_type": "markdown",
   "metadata": {
    "id": "fiNfWpckbW3A"
   },
   "source": [
    "## W2V Pipeline Main"
   ]
  },
  {
   "cell_type": "code",
   "execution_count": 31,
   "metadata": {},
   "outputs": [],
   "source": [
    "config_path = SOURCE + '/assets/notebooks/PreprocessingConfig.yaml'\n",
    "preprocessing_config = PreprocessingPipelineConfig()\n",
    "preprocessing_config.load(config_path)"
   ]
  },
  {
   "cell_type": "code",
   "execution_count": 32,
   "metadata": {
    "id": "ll4n92B5rGYW",
    "tags": []
   },
   "outputs": [
    {
     "name": "stdout",
     "output_type": "stream",
     "text": [
      "2021-07-08 12:53:51,803 INFO | Starting Drain3 template miner\n",
      "2021-07-08 12:53:51,805 INFO | Loading configuration from drain3.ini\n",
      "2021-07-08 12:53:51,806 WARNING | config file not found: drain3.ini\n",
      "\u001b[K\u001b[32m✔ Completed log normalization\u001b[0m \n",
      "2021-07-08 12:53:55,072 INFO | exporting phrases from Phrases<0 vocab, min_count=5, threshold=7, max_vocab_size=40000000>\n",
      "2021-07-08 12:53:55,073 INFO | FrozenPhrases lifecycle event {'msg': 'exported FrozenPhrases<0 phrases, min_count=5, threshold=7> from Phrases<0 vocab, min_count=5, threshold=7, max_vocab_size=40000000> in 0.00s', 'datetime': '2021-07-08T12:53:55.073507', 'gensim': '4.0.1', 'python': '3.8.8 | packaged by conda-forge | (default, Feb 20 2021, 16:22:27) \\n[GCC 9.3.0]', 'platform': 'Linux-5.8.0-55-generic-x86_64-with-glibc2.10', 'event': 'created'}\n",
      "\u001b[K\u001b[32m✔ Completed phrase extraction\u001b[0m \n",
      "\u001b[K\u001b[32m✔ Completed log template conversion\u001b[0m \n",
      "\u001b[K\u001b[32m✔ Completed extracting unique labels\u001b[0m \n",
      "\n",
      "\n",
      "\n",
      "\u001b[K\u001b[32m✔ Completed training of custom tokenizer\u001b[0m \n"
     ]
    },
    {
     "ename": "NameError",
     "evalue": "name 'final_list' is not defined",
     "output_type": "error",
     "traceback": [
      "\u001b[0;31m---------------------------------------------------------------------------\u001b[0m",
      "\u001b[0;31mNameError\u001b[0m                                 Traceback (most recent call last)",
      "\u001b[0;32m/tmp/ipykernel_124/3484638576.py\u001b[0m in \u001b[0;36m<module>\u001b[0;34m\u001b[0m\n\u001b[1;32m     14\u001b[0m \u001b[0;31m# --- SUBWORD TOKENIZER --\u001b[0m\u001b[0;34m\u001b[0m\u001b[0;34m\u001b[0m\u001b[0;34m\u001b[0m\u001b[0m\n\u001b[1;32m     15\u001b[0m \u001b[0mw2vp\u001b[0m \u001b[0;34m=\u001b[0m \u001b[0mUnsupervisedLearningPipeline\u001b[0m\u001b[0;34m(\u001b[0m\u001b[0mpreprocessing_config\u001b[0m\u001b[0;34m,\u001b[0m \u001b[0mepochs\u001b[0m\u001b[0;34m=\u001b[0m\u001b[0;36m10\u001b[0m\u001b[0;34m,\u001b[0m \u001b[0mbatch_size\u001b[0m\u001b[0;34m=\u001b[0m\u001b[0;36m10\u001b[0m\u001b[0;34m,\u001b[0m \u001b[0mseq_length\u001b[0m\u001b[0;34m=\u001b[0m\u001b[0;36m200\u001b[0m\u001b[0;34m)\u001b[0m\u001b[0;34m\u001b[0m\u001b[0;34m\u001b[0m\u001b[0m\n\u001b[0;32m---> 16\u001b[0;31m \u001b[0mtraining_outputs\u001b[0m \u001b[0;34m=\u001b[0m \u001b[0mw2vp\u001b[0m\u001b[0;34m.\u001b[0m\u001b[0mfit\u001b[0m\u001b[0;34m(\u001b[0m\u001b[0mdataset\u001b[0m\u001b[0;34m[\u001b[0m\u001b[0;34m:\u001b[0m\u001b[0;36m100000\u001b[0m\u001b[0;34m]\u001b[0m\u001b[0;34m)\u001b[0m\u001b[0;34m\u001b[0m\u001b[0;34m\u001b[0m\u001b[0m\n\u001b[0m",
      "\u001b[0;32m/tmp/ipykernel_124/1048614346.py\u001b[0m in \u001b[0;36mfit\u001b[0;34m(self, logs)\u001b[0m\n\u001b[1;32m    236\u001b[0m \u001b[0;34m\u001b[0m\u001b[0m\n\u001b[1;32m    237\u001b[0m             \u001b[0msp\u001b[0m\u001b[0;34m.\u001b[0m\u001b[0mtext\u001b[0m \u001b[0;34m=\u001b[0m \u001b[0;34m\"Processing training dataset\"\u001b[0m\u001b[0;34m\u001b[0m\u001b[0;34m\u001b[0m\u001b[0m\n\u001b[0;32m--> 238\u001b[0;31m             \u001b[0mself\u001b[0m\u001b[0;34m.\u001b[0m\u001b[0mtrain_dataset\u001b[0m \u001b[0;34m=\u001b[0m \u001b[0mself\u001b[0m\u001b[0;34m.\u001b[0m\u001b[0mget_pre_training_data\u001b[0m\u001b[0;34m(\u001b[0m\u001b[0;34m)\u001b[0m\u001b[0;34m\u001b[0m\u001b[0;34m\u001b[0m\u001b[0m\n\u001b[0m\u001b[1;32m    239\u001b[0m             \u001b[0msp\u001b[0m\u001b[0;34m.\u001b[0m\u001b[0mtext\u001b[0m \u001b[0;34m=\u001b[0m \u001b[0;34m\"\"\u001b[0m\u001b[0;34m\u001b[0m\u001b[0;34m\u001b[0m\u001b[0m\n\u001b[1;32m    240\u001b[0m             \u001b[0msp\u001b[0m\u001b[0;34m.\u001b[0m\u001b[0mok\u001b[0m\u001b[0;34m(\u001b[0m\u001b[0;34m'✔ Completed processing training dataset'\u001b[0m\u001b[0;34m)\u001b[0m\u001b[0;34m\u001b[0m\u001b[0;34m\u001b[0m\u001b[0m\n",
      "\u001b[0;32m/tmp/ipykernel_124/1048614346.py\u001b[0m in \u001b[0;36mget_pre_training_data\u001b[0;34m(self)\u001b[0m\n\u001b[1;32m    133\u001b[0m \u001b[0;34m\u001b[0m\u001b[0m\n\u001b[1;32m    134\u001b[0m         pre_train_dataset = tf.data.Dataset.from_tensor_slices((\n\u001b[0;32m--> 135\u001b[0;31m             \u001b[0mfinal_list\u001b[0m\u001b[0;34m,\u001b[0m\u001b[0;34m\u001b[0m\u001b[0;34m\u001b[0m\u001b[0m\n\u001b[0m\u001b[1;32m    136\u001b[0m             \u001b[0mlog_labels\u001b[0m\u001b[0;34m\u001b[0m\u001b[0;34m\u001b[0m\u001b[0m\n\u001b[1;32m    137\u001b[0m         ))\n",
      "\u001b[0;31mNameError\u001b[0m: name 'final_list' is not defined"
     ]
    }
   ],
   "source": [
    "# -- Unsupervised Learning Pipeline -- #\n",
    "\n",
    "'''\n",
    "Input: pd.DataFrame with batch_size number of rows \n",
    "Seq: \n",
    "    Normalize \n",
    "    Phraser\n",
    "    Clustering\n",
    "    Extract Unique Layers\n",
    "    BERT\n",
    "Returns: transformers.TFBertForPreTrainingOutput\n",
    "'''\n",
    "\n",
    "# --- SUBWORD TOKENIZER --\n",
    "w2vp = UnsupervisedLearningPipeline(preprocessing_config, epochs=10, batch_size=10, seq_length=200)\n",
    "training_outputs = w2vp.fit(dataset[:100000])"
   ]
  },
  {
   "cell_type": "code",
   "execution_count": null,
   "metadata": {},
   "outputs": [],
   "source": [
    "training_outputs"
   ]
  },
  {
   "cell_type": "code",
   "execution_count": null,
   "metadata": {},
   "outputs": [],
   "source": [
    "from transformers.modeling_tf_utils import input_processing, shape_list\n",
    "\n",
    "def compute_loss(labels: tf.Tensor, logits: tf.Tensor) -> tf.Tensor:\n",
    "    loss_fn = tf.keras.losses.SparseCategoricalCrossentropy(\n",
    "        from_logits=True# reduction=tf.keras.losses.Reduction.NONE\n",
    "    )\n",
    "    # make sure only labels that are not equal to -100\n",
    "    # are taken into account as loss\n",
    "    masked_lm_active_loss = tf.not_equal(tf.reshape(tensor=labels[\"labels\"], shape=(-1,)), -100)\n",
    "    \n",
    "    masked_lm_reduced_logits = tf.boolean_mask(\n",
    "        tensor=tf.reshape(tensor=logits[0], shape=(-1, shape_list(logits[0])[2])),\n",
    "        mask=masked_lm_active_loss,\n",
    "    )\n",
    "    \n",
    "    masked_lm_labels = tf.boolean_mask(\n",
    "        tensor=tf.reshape(tensor=labels[\"labels\"], shape=(-1,)), mask=masked_lm_active_loss\n",
    "    )\n",
    "    \n",
    "    next_sentence_active_loss = tf.not_equal(tf.reshape(tensor=labels[\"next_sentence_label\"], shape=(-1,)), -100)\n",
    "    \n",
    "    next_sentence_reduced_logits = tf.boolean_mask(\n",
    "        tensor=tf.reshape(tensor=logits[1], shape=(-1, 2)), mask=next_sentence_active_loss\n",
    "    )\n",
    "    \n",
    "    next_sentence_label = tf.boolean_mask(\n",
    "        tensor=tf.reshape(tensor=labels[\"next_sentence_label\"], shape=(-1,)), mask=next_sentence_active_loss\n",
    "    )\n",
    "    \n",
    "    masked_lm_loss = loss_fn(y_true=masked_lm_labels, y_pred=masked_lm_reduced_logits)\n",
    "    \n",
    "    next_sentence_loss = loss_fn(y_true=next_sentence_label, y_pred=next_sentence_reduced_logits)\n",
    "    \n",
    "    masked_lm_loss = tf.reshape(tensor=masked_lm_loss, shape=(-1, shape_list(next_sentence_loss)[0]))\n",
    "    \n",
    "    masked_lm_loss = tf.reduce_mean(input_tensor=masked_lm_loss, axis=0)\n",
    "\n",
    "    return masked_lm_loss + next_sentence_loss"
   ]
  },
  {
   "cell_type": "code",
   "execution_count": null,
   "metadata": {},
   "outputs": [],
   "source": [
    "from torch.nn import CrossEntropyLoss\n",
    "import torch"
   ]
  },
  {
   "cell_type": "code",
   "execution_count": null,
   "metadata": {},
   "outputs": [],
   "source": [
    "prediction_scores = torch.Tensor(prediction_scores.numpy())\n",
    "prediction_scores = prediction_scores.type(torch.float64)\n",
    "seq_relationship_score = torch.Tensor(seq_relationship_score.numpy())\n",
    "seq_relationship_score = seq_relationship_score.type(torch.float64)\n",
    "labels = torch.Tensor(inputs[\"labels\"].numpy())\n",
    "labels = labels.type(torch.LongTensor)\n",
    "next_sentence_label = torch.Tensor(inputs[\"next_sentence_label\"].numpy())\n",
    "next_sentence_label = next_sentence_label.type(torch.LongTensor)\n",
    "\n",
    "if labels is not None and next_sentence_label is not None:\n",
    "    loss_fct = CrossEntropyLoss()\n",
    "    masked_lm_loss = loss_fct(prediction_scores.view(-1, 2506), labels.view(-1))\n",
    "    next_sentence_loss = loss_fct(seq_relationship_score.view(-1, 2), next_sentence_label.view(-1))\n",
    "    total_loss = masked_lm_loss + next_sentence_loss"
   ]
  },
  {
   "cell_type": "code",
   "execution_count": null,
   "metadata": {},
   "outputs": [],
   "source": [
    "total_loss"
   ]
  },
  {
   "cell_type": "code",
   "execution_count": null,
   "metadata": {},
   "outputs": [],
   "source": [
    "masked_lm_loss"
   ]
  },
  {
   "cell_type": "code",
   "execution_count": null,
   "metadata": {},
   "outputs": [],
   "source": [
    "next_sentence_loss"
   ]
  },
  {
   "cell_type": "code",
   "execution_count": null,
   "metadata": {},
   "outputs": [],
   "source": [
    "w2vp.bert_tokenizer.get_vocab_size()"
   ]
  },
  {
   "cell_type": "code",
   "execution_count": null,
   "metadata": {},
   "outputs": [],
   "source": [
    "from transformers.models.bert.modeling_tf_bert import TFBertMainLayer, TFBertNSPHead, TFBertMLMHead\n",
    "\n",
    "config = transformers.BertConfig(\n",
    "    vocab_size=w2vp.bert_tokenizer.get_vocab_size(),\n",
    "    hidden_size=512,\n",
    "    num_hidden_layers=8,\n",
    "    num_attention_heads=8\n",
    ")\n",
    "\n",
    "bert = TFBertMainLayer(config, name=\"bert\")\n",
    "nsp = TFBertNSPHead(config, name=\"nsp___cls\")\n",
    "mlm = TFBertMLMHead(config, input_embeddings=bert.embeddings, name=\"mlm___cls\")"
   ]
  },
  {
   "cell_type": "code",
   "execution_count": null,
   "metadata": {},
   "outputs": [],
   "source": [
    "one = tf.zeros((64, 32, 2506))\n",
    "labels = inputs[\"labels\"]\n",
    "nsp_ = inputs[\"next_sentence_label\"]\n",
    "logits1 = seq_relationship_score\n",
    "\n",
    "loss_fn = tf.keras.losses.SparseCategoricalCrossentropy(\n",
    "    from_logits=True#, reduction=tf.keras.losses.Reduction.NONE\n",
    ")\n",
    "\n",
    "masked_lm_active_loss = tf.not_equal(tf.reshape(tensor=labels, shape=(-1,)), -100)\n",
    "tensor=tf.reshape(tensor=one, shape=(-1, shape_list(one)[2]))\n",
    "\n",
    "masked_lm_reduced_logits = tf.boolean_mask(\n",
    "    tensor=tensor,#tf.reshape(tensor=logits[0], shape=(-1, shape_list(logits[0])[2])),\n",
    "    mask=masked_lm_active_loss,\n",
    ")\n",
    "\n",
    "masked_lm_labels = tf.boolean_mask(\n",
    "    tensor=tf.reshape(tensor=labels, shape=(-1,)), mask=masked_lm_active_loss\n",
    ")\n",
    "\n",
    "next_sentence_active_loss = tf.not_equal(tf.reshape(tensor=nsp_, shape=(-1,)), -100)\n",
    "\n",
    "next_sentence_reduced_logits = tf.boolean_mask(\n",
    "    tensor=tf.reshape(tensor=logits1, shape=(-1, 2)), mask=next_sentence_active_loss\n",
    ")\n",
    "\n",
    "next_sentence_label = tf.boolean_mask(\n",
    "    tensor=tf.reshape(tensor=nsp_, shape=(-1,)), mask=next_sentence_active_loss\n",
    ")\n",
    "\n",
    "masked_lm_loss = loss_fn(y_true=masked_lm_labels, y_pred=masked_lm_reduced_logits)\n",
    "\n",
    "\n",
    "next_sentence_loss = tf.cast(loss_fn(y_true=next_sentence_label, y_pred=next_sentence_reduced_logits), tf.float32)\n",
    "\n",
    "# masked_lm_loss = tf.reduce_mean(input_tensor=masked_lm_loss, axis=0)\n",
    "# masked_lm_loss = tf.reshape(tensor=masked_lm_loss, shape=(-1, shape_list(next_sentence_loss)[0]))\n",
    "\n",
    "masked_lm_loss + next_sentence_loss"
   ]
  },
  {
   "cell_type": "code",
   "execution_count": null,
   "metadata": {},
   "outputs": [],
   "source": [
    "inputs = list(w2vp.train_dataset)[0][0]\n",
    "\n",
    "outputs = bert(\n",
    "    input_ids=inputs[\"input_ids\"],\n",
    "    attention_mask=inputs[\"attention_mask\"],\n",
    "    token_type_ids=inputs[\"token_type_ids\"],\n",
    "    position_ids=None,#inputs[\"position_ids\"],\n",
    "    head_mask=None,#inputs[\"head_mask\"],\n",
    "    inputs_embeds=None,#inputs[\"inputs_embeds\"],\n",
    "    output_attentions=True,#inputs[\"output_attentions\"],\n",
    "    output_hidden_states=True,#inputs[\"output_hidden_states\"],\n",
    "    return_dict=True,#inputs[\"return_dict\"],\n",
    "    training=True#inputs[\"training\"],\n",
    ")\n",
    "\n",
    "sequence_output, pooled_output = outputs[:2]\n",
    "prediction_scores = mlm(sequence_output=sequence_output, training=True)\n",
    "seq_relationship_score = nsp(pooled_output=pooled_output)\n",
    "\n",
    "print(prediction_scores.shape)\n",
    "print(seq_relationship_score.shape)\n",
    "\n",
    "total_loss = None\n",
    "\n",
    "print(inputs[\"labels\"].shape)\n",
    "print(inputs[\"next_sentence_label\"].shape)\n",
    "print(w2vp.bert_tokenizer.get_vocab_size())\n",
    "\n",
    "if inputs[\"labels\"] is not None and inputs[\"next_sentence_label\"] is not None:\n",
    "    d_labels = {\"labels\": inputs[\"labels\"]}\n",
    "    d_labels[\"next_sentence_label\"] = inputs[\"next_sentence_label\"]\n",
    "    total_loss = compute_loss(labels=d_labels, logits=(prediction_scores, seq_relationship_score))\n"
   ]
  },
  {
   "cell_type": "code",
   "execution_count": null,
   "metadata": {},
   "outputs": [],
   "source": [
    "@tf.function\n",
    "def square_ragged_tensors(examples, key):\n",
    "    if isinstance(examples, dict):\n",
    "        return  examples[key].to_tensor(0)\n",
    "    else:\n",
    "        return examples.to_tensor(0)\n",
    "\n",
    "def some_func(examples: tf.data.Dataset, is_ragged=False) -> tf.data.Dataset:\n",
    "    if is_ragged:\n",
    "        if isinstance(list(examples)[0], dict):\n",
    "            for k_idx in range(len(list(examples)[0].keys())):\n",
    "                key = list(list(examples)[0].keys())[k_idx]\n",
    "                if isinstance(list(examples)[0][key], tf.RaggedTensor):\n",
    "                    list(examples)[0][key] = examples.batch(2).map(lambda x: square_ragged_tensors(x, key)).unbatch()\n",
    "        else:\n",
    "            examples = examples.batch(2).map(square_ragged_tensors).unbatch()\n",
    "        \n",
    "    return examples\n",
    "        \n",
    "a = tf.constant([0, 1, 2, 3])\n",
    "b = tf.constant([0, 1, 2, 3, 5, 6])\n",
    "rg = tf.ragged.stack([a, b])\n",
    "ex = {\"input_ids\": rg, \"hello_world\": [\"goodbye\", \"world\"]}\n",
    "\n",
    "batch_encodings = tf.data.Dataset.from_tensor_slices(ex)\n",
    "\n",
    "list(some_func(batch_encodings, True))\n",
    "# ex[\"input_ids\"].to_tensor(0)"
   ]
  },
  {
   "cell_type": "code",
   "execution_count": null,
   "metadata": {},
   "outputs": [],
   "source": [
    "w2vp.train_dataset.as_numpy_iterator().__next__()[0][\"next_sentence_label\"].shape"
   ]
  },
  {
   "cell_type": "code",
   "execution_count": null,
   "metadata": {},
   "outputs": [],
   "source": [
    "dataset[:1000]"
   ]
  },
  {
   "cell_type": "code",
   "execution_count": null,
   "metadata": {},
   "outputs": [],
   "source": [
    "# w2vp.train_dataset.as_numpy_iterator().__next__()[0]"
   ]
  },
  {
   "cell_type": "code",
   "execution_count": null,
   "metadata": {},
   "outputs": [],
   "source": [
    "training_outputs"
   ]
  },
  {
   "cell_type": "code",
   "execution_count": null,
   "metadata": {},
   "outputs": [],
   "source": [
    "test_data = dataset[:1]"
   ]
  },
  {
   "cell_type": "code",
   "execution_count": null,
   "metadata": {},
   "outputs": [],
   "source": [
    "test_data.head()"
   ]
  },
  {
   "cell_type": "code",
   "execution_count": null,
   "metadata": {},
   "outputs": [],
   "source": [
    "inference_output = w2vp.transform(test_data)\n",
    "\n",
    "# inference_output = training_outputs"
   ]
  },
  {
   "cell_type": "code",
   "execution_count": null,
   "metadata": {},
   "outputs": [],
   "source": [
    "import torch\n",
    "\n",
    "attention = []\n",
    "\n",
    "for att in inference_output.attentions:\n",
    "    new_att = np.array(att)\n",
    "    tt_att = torch.Tensor(new_att)\n",
    "    attention.append(tt_att)\n",
    "    \n",
    "attention = tuple(attention)\n",
    "\n",
    "print(attention[0].shape)\n",
    "\n",
    "print(len(attention))"
   ]
  },
  {
   "cell_type": "code",
   "execution_count": null,
   "metadata": {},
   "outputs": [],
   "source": [
    "%%capture\n",
    "!pip install bertviz"
   ]
  },
  {
   "cell_type": "code",
   "execution_count": null,
   "metadata": {},
   "outputs": [],
   "source": [
    "from bertviz import head_view, model_view"
   ]
  },
  {
   "cell_type": "code",
   "execution_count": null,
   "metadata": {},
   "outputs": [],
   "source": [
    "test_data['log']"
   ]
  },
  {
   "cell_type": "code",
   "execution_count": null,
   "metadata": {},
   "outputs": [],
   "source": [
    "sentence = test_data.iloc[0]['log']\n",
    "sentence"
   ]
  },
  {
   "cell_type": "code",
   "execution_count": null,
   "metadata": {},
   "outputs": [],
   "source": [
    "tokens = w2vp.bert_tokenizer.text_to_sequence(sentence).tokens\n",
    "tokens"
   ]
  },
  {
   "cell_type": "code",
   "execution_count": null,
   "metadata": {},
   "outputs": [],
   "source": [
    "head_view(attention, tokens)"
   ]
  },
  {
   "cell_type": "code",
   "execution_count": null,
   "metadata": {},
   "outputs": [],
   "source": [
    "model_view(attention, tokens)"
   ]
  },
  {
   "cell_type": "code",
   "execution_count": null,
   "metadata": {},
   "outputs": [],
   "source": [
    "w2vp.BERT.summary()"
   ]
  },
  {
   "cell_type": "code",
   "execution_count": null,
   "metadata": {},
   "outputs": [],
   "source": [
    "copy_bert = deepcopy(w2vp.BERT)"
   ]
  },
  {
   "cell_type": "code",
   "execution_count": null,
   "metadata": {},
   "outputs": [],
   "source": [
    "copy_bert.get_output_at"
   ]
  },
  {
   "cell_type": "code",
   "execution_count": null,
   "metadata": {},
   "outputs": [],
   "source": [
    "w2vp.BERT.save(SOURCE + '/results/')"
   ]
  },
  {
   "cell_type": "code",
   "execution_count": null,
   "metadata": {},
   "outputs": [],
   "source": [
    "tf_data"
   ]
  },
  {
   "cell_type": "markdown",
   "metadata": {
    "id": "oWSpd9MecA8b"
   },
   "source": [
    "## W2V Dash "
   ]
  },
  {
   "cell_type": "markdown",
   "metadata": {
    "id": "SRGlsN0McF1D"
   },
   "source": [
    "### Supporting Functions"
   ]
  },
  {
   "cell_type": "code",
   "execution_count": null,
   "metadata": {
    "id": "l9AAeUOmnz4h"
   },
   "outputs": [],
   "source": [
    "def tree_parser(node, inner_list, outer_list, root_node, depth):\n",
    "    d = node.key_to_child_node  # dict\n",
    "    for token in list(d.keys()):\n",
    "        if len(root_node.key_to_child_node.keys()) == 0:\n",
    "            ret_list = []\n",
    "            for row in outer_list:\n",
    "                proper_len = int(row[1])\n",
    "                if len(row) == proper_len+1 or len(row) + 1 == depth:\n",
    "                    ret_list.append(row)\n",
    "            return ret_list\n",
    "        inner_list.append(token)\n",
    "        child = d[token]\n",
    "        if child.key_to_child_node:\n",
    "            tree_parser(child, inner_list, outer_list, root_node, depth)\n",
    "        else:\n",
    "            d.pop(token)\n",
    "            outer_list.append(inner_list)\n",
    "            inner_list = ['root']\n",
    "            tree_parser(root_node, inner_list, outer_list, root_node, depth)"
   ]
  },
  {
   "cell_type": "code",
   "execution_count": null,
   "metadata": {},
   "outputs": [],
   "source": [
    "def tree_to_list_parser(node):\n",
    "    tree_df = []\n",
    "    curr_path = []\n",
    "    tree_dict = {}\n",
    "    prev_root = [(\"root\", node)]\n",
    "    while len(prev_root) > 0:\n",
    "        # Peek at last value\n",
    "        curr_root = prev_root[-1]\n",
    "\n",
    "        # Get the node element\n",
    "        curr_node = curr_root[1].key_to_child_node\n",
    "\n",
    "        # Follow path value if not already there\n",
    "        if len(curr_path) <= 0 or curr_path[-1] != curr_root[0]:\n",
    "            curr_path.append(curr_root[0])\n",
    "\n",
    "        visited = False\n",
    "        if curr_root[1] in tree_dict:\n",
    "            visited = True\n",
    "        else:\n",
    "            tree_dict[curr_root[1]] = True\n",
    "\n",
    "        # Check if value has any leaf nodes\n",
    "        if not visited and len(curr_node.keys()) > 0:\n",
    "            # Add those to the stack\n",
    "            for nn in curr_node.items():\n",
    "                prev_root.append((nn[0], nn[1]))\n",
    "        else:\n",
    "            # Remove previous node in the path\n",
    "            prev_root.pop()\n",
    "\n",
    "            # Record to the database if leaf\n",
    "            if len(curr_node.keys()) <= 0:\n",
    "                tree_df.append(deepcopy(curr_path))\n",
    "\n",
    "            # Move back up tree\n",
    "            curr_path.pop()\n",
    "    return tree_df"
   ]
  },
  {
   "cell_type": "code",
   "execution_count": null,
   "metadata": {},
   "outputs": [],
   "source": [
    "def appendSpherical_np(xyz):\n",
    "    ptsnew = np.hstack((xyz, np.zeros(xyz.shape)))\n",
    "    xy = xyz[:, 0]**2 + xyz[:, 1]**2\n",
    "    ptsnew[:, 3] = np.sqrt(xy + xyz[:, 2]**2)\n",
    "    ptsnew[:, 4] = np.arctan2(np.sqrt(xy), xyz[:, 2])  # for elevation angle defined from Z-axis down\n",
    "    # ptsnew[:,4] = np.arctan2(xyz[:,2], np.sqrt(xy)) # for elevation angle defined from XY-plane up\n",
    "    ptsnew[:, 5] = np.arctan2(xyz[:, 1], xyz[:, 0])\n",
    "    return ptsnew"
   ]
  },
  {
   "cell_type": "code",
   "execution_count": null,
   "metadata": {},
   "outputs": [],
   "source": [
    "def get_spherical_coords(xyz):\n",
    "    sph = np.zeros(shape=xyz.shape)\n",
    "    xy = xyz[:, 0]**2 + xyz[:, 1]**2\n",
    "    sph[:, 0] = np.sqrt(xy + xyz[:, 2]**2)\n",
    "    sph[:, 1] = np.arctan2(np.sqrt(xy), xyz[:, 2])\n",
    "    sph[:, 2] = np.arctan2(xyz[:, 1], xyz[:, 0])\n",
    "    return sph"
   ]
  },
  {
   "cell_type": "markdown",
   "metadata": {
    "id": "bCgMbFevmC88"
   },
   "source": [
    "The output of the W2V pipeline is a matrix of size [vocab size x embedding size] "
   ]
  },
  {
   "cell_type": "markdown",
   "metadata": {},
   "source": [
    "### Environmental Variables"
   ]
  },
  {
   "cell_type": "code",
   "execution_count": null,
   "metadata": {
    "id": "jw4mwJz6eGa6"
   },
   "outputs": [],
   "source": [
    "# -- W2V Dash Environmental Variables -- #\n",
    "\n",
    "W2V_NEIGHBORS = 20\n",
    "RECURSION_LIMIT = 10**6\n",
    "N_PROJ_DIM = 3\n",
    "DASH_SEED = 0"
   ]
  },
  {
   "cell_type": "markdown",
   "metadata": {},
   "source": [
    "### Generate Projection Data"
   ]
  },
  {
   "cell_type": "code",
   "execution_count": null,
   "metadata": {
    "id": "a60tfcLUoERG"
   },
   "outputs": [],
   "source": [
    "# -- Generate Data for Word Embeddings Projector -- #\n",
    "\n",
    "# shape = vocab size x embedding dim size\n",
    "weights = np.ndarray(shape=(len(embed_weights), w2v_config[\"embed_size\"]))\n",
    "\n",
    "# -- Populate Matrix for PCA -- #\n",
    "for idx, weight in enumerate(list(embed_weights.values())):\n",
    "    weights[idx, :] = weight\n",
    "\n",
    "# -- Dimensionality Reduction -- #\n",
    "pca = PCA(n_components=N_PROJ_DIM, random_state=DASH_SEED).fit(weights)\n",
    "ica = FastICA(n_components=N_PROJ_DIM, random_state=DASH_SEED).fit(weights)\n",
    "srp = SparseRandomProjection(n_components=N_PROJ_DIM, random_state=DASH_SEED).fit(weights)\n",
    "reduced_embeddings = pca.transform(weights)\n",
    "\n",
    "# -- Calculate Nearest Neighbors -- #\n",
    "model = NearestNeighbors(n_neighbors=W2V_NEIGHBORS, algorithm='auto')\n",
    "trained_embeddings = model.fit(reduced_embeddings)\n",
    "\n",
    "# Currently the array has a shape of vocab size x N_PROJ_DIM and contains\n",
    "# the fitted PCA data. We need to add the vocab in the first column so\n",
    "# we know which vectors are represented.\n",
    "scatter_plot_3d_cols = ['token', 'x1', 'x2', 'x3']\n",
    "embedding_vocab_arr = np.array(list(embed_weights.keys()))\n",
    "embedding_vocab_arr = np.expand_dims(embedding_vocab_arr, 1)\n",
    "named_reduced_embeddings = np.hstack((embedding_vocab_arr, reduced_embeddings))\n",
    "scatter_plot_3d_df = pd.DataFrame(\n",
    "    data=named_reduced_embeddings,\n",
    "    columns=scatter_plot_3d_cols)\n",
    "scatter_plot_3d_df['x1'] = pd.to_numeric(scatter_plot_3d_df['x1'])\n",
    "scatter_plot_3d_df['x2'] = pd.to_numeric(scatter_plot_3d_df['x2'])\n",
    "scatter_plot_3d_df['x3'] = pd.to_numeric(scatter_plot_3d_df['x3'])"
   ]
  },
  {
   "cell_type": "markdown",
   "metadata": {
    "id": "GC17hivjjKs0"
   },
   "source": [
    "We will build our plot using the tree_parser function. This function recursively\n",
    "steps through the drain3.TemplateMiner.drain.Node structure of our \n",
    "**TextClusteringLayer** (TCL). The recursion populates a np.array which is then used\n",
    "to build a pandas dataframe which the plotly treemap accepts. There is a column\n",
    "appended to the tail of the dataframe which counts the number of stars \n",
    "(wild card masks) present in the row. This is used to define the colors shown."
   ]
  },
  {
   "cell_type": "markdown",
   "metadata": {},
   "source": [
    "### Generate Treemap Data"
   ]
  },
  {
   "cell_type": "code",
   "execution_count": null,
   "metadata": {
    "id": "X7TkKEOFyRH3"
   },
   "outputs": [],
   "source": [
    "# By default python's recursion limit is 10**4 which is too small for our needs\n",
    "sys.setrecursionlimit(RECURSION_LIMIT)\n",
    "\n",
    "# The root node is the master node of the tree and will be our return point\n",
    "root_node = deepcopy(w2vp.TCL.template_miner.drain.root_node)\n",
    "parsed_tree = tree_to_list_parser(root_node)\n",
    "parsed_tree_df = pd.DataFrame(data=parsed_tree)\n",
    "\n",
    "# The returned dataframe has generic columns so we will provide custom labels\n",
    "n_cols = len(parsed_tree_df.columns)\n",
    "col_name_list = []\n",
    "for idx in range(n_cols):\n",
    "    col_name_list.append('level' + str(idx))\n",
    "parsed_tree_df.columns = col_name_list\n",
    "\n",
    "'''\n",
    "Without a color column our treemap would just be plain. We thought that taking\n",
    "the sum of the drain mask would be an interesting way to color the treemap.\n",
    "This lambda function will sum those values in each row and return them to a new\n",
    "columnn named 'sum'\n",
    "'''\n",
    "parsed_tree_df['sum'] = parsed_tree_df.apply(lambda x: x.str.contains('<*>'), axis=1).sum(axis=1)  # noqa"
   ]
  },
  {
   "cell_type": "markdown",
   "metadata": {},
   "source": [
    "### Dash Variables"
   ]
  },
  {
   "cell_type": "code",
   "execution_count": null,
   "metadata": {},
   "outputs": [],
   "source": [
    "pio.templates.default = \"plotly_dark\"\n",
    "external_stylesheets_url = 'https://drive.google.com/uc?export=view&id=19OXGQ5iJIjRZD4VEZ-xiVChDmj0-SlSF'  # noqa\n",
    "external_stylesheets = [external_stylesheets_url]\n",
    "\n",
    "CACHE_CONFIG = dict()\n",
    "CACHE_CONFIG['CACHE_TYPE'] = 'filesystem'\n",
    "CACHE_CONFIG['CACHE_DIR'] = SOURCE + '/results/dash_cache'"
   ]
  },
  {
   "cell_type": "markdown",
   "metadata": {},
   "source": [
    "### Colors"
   ]
  },
  {
   "cell_type": "code",
   "execution_count": null,
   "metadata": {},
   "outputs": [],
   "source": [
    "color_d = dict()\n",
    "color_d['blue'] = 'rgb(66, 133, 244)'\n",
    "color_d['red'] = 'rgb(219, 68, 55)'\n",
    "color_d['yellow'] = 'rgb(244, 180, 0)'\n",
    "color_d['orange'] = 'rgb(255, 165, 0)'\n",
    "color_d['green'] = 'rgb(15, 157, 88)'\n",
    "color_d['mint'] = 'rgb(3, 218, 198)'\n",
    "color_d['dark mint'] = 'rgb(1, 135, 134)'\n",
    "color_d['dark purple'] = 'rgb(55, 0, 179)'\n",
    "color_d['purple'] = 'rgb(98, 0, 238)'"
   ]
  },
  {
   "cell_type": "markdown",
   "metadata": {},
   "source": [
    "### Dash Formatting"
   ]
  },
  {
   "cell_type": "code",
   "execution_count": null,
   "metadata": {},
   "outputs": [],
   "source": [
    "# ================= #\n",
    "#  3d Scatter Plot  #\n",
    "# ================= #\n",
    "\n",
    "# Line formatting\n",
    "scatter_plot_3d_line = dict()\n",
    "scatter_plot_3d_line['width'] = 2\n",
    "scatter_plot_3d_line['color'] = color_d['dark mint']\n",
    "\n",
    "scatter_plot_3d_selected_line = dict()\n",
    "scatter_plot_3d_selected_line['width'] = 2\n",
    "scatter_plot_3d_selected_line['color'] = color_d['dark mint']\n",
    "\n",
    "scatter_plot_3d_nonselected_line = dict()\n",
    "scatter_plot_3d_nonselected_line['width'] = 2\n",
    "scatter_plot_3d_nonselected_line['color'] = color_d['dark mint']\n",
    "\n",
    "scatter_plot_3d_darker_line = dict()\n",
    "scatter_plot_3d_darker_line['width'] = 2\n",
    "scatter_plot_3d_darker_line['color'] = color_d['dark purple']\n",
    "\n",
    "\n",
    "# Marker formatting\n",
    "scatter_plot_3d_marker = dict()\n",
    "scatter_plot_3d_marker['size'] = 5\n",
    "scatter_plot_3d_marker['line'] = scatter_plot_3d_line\n",
    "scatter_plot_3d_marker['color'] = color_d['mint']\n",
    "\n",
    "scatter_plot_3d_selected_marker = dict()\n",
    "scatter_plot_3d_selected_marker['size'] = 5\n",
    "scatter_plot_3d_selected_marker['color'] = color_d['mint']\n",
    "scatter_plot_3d_selected_marker['line'] = scatter_plot_3d_selected_line\n",
    "\n",
    "scatter_plot_3d_nonselected_marker = dict()\n",
    "scatter_plot_3d_nonselected_marker['size'] = 5\n",
    "scatter_plot_3d_nonselected_marker['color'] = color_d['mint']\n",
    "scatter_plot_3d_nonselected_marker['opacity'] = 0.15\n",
    "scatter_plot_3d_nonselected_marker['line'] = scatter_plot_3d_nonselected_line\n",
    "\n",
    "scatter_plot_3d_marker_no_color = dict()\n",
    "scatter_plot_3d_marker_no_color['size'] = 5\n",
    "scatter_plot_3d_marker_no_color['line'] = scatter_plot_3d_darker_line\n",
    "\n",
    "scatter_plot_3d_marker_cluster_center = dict()\n",
    "scatter_plot_3d_marker_cluster_center['size'] = 10\n",
    "scatter_plot_3d_marker_cluster_center['color'] = color_d['orange']\n",
    "scatter_plot_3d_marker_cluster_center['opacity'] = 0.5\n",
    "scatter_plot_3d_marker_cluster_center['line'] = scatter_plot_3d_darker_line\n",
    "\n",
    "scatter_plot_3d_selected_table_marker = dict()\n",
    "scatter_plot_3d_selected_table_marker['size'] = 5\n",
    "scatter_plot_3d_selected_table_marker['color'] = color_d['yellow']\n",
    "scatter_plot_3d_selected_table_marker['line'] = scatter_plot_3d_darker_line\n",
    "\n",
    "\n",
    "# Style\n",
    "scatter_plot_3d_style = dict()\n",
    "scatter_plot_3d_style['height'] = '100%'\n",
    "scatter_plot_3d_style['width'] = '100%'\n",
    "\n",
    "\n",
    "# ========= #\n",
    "#  Treemap  #\n",
    "# ========= #\n",
    "\n",
    "# Style\n",
    "treemap_style = dict()\n",
    "treemap_style['height'] = '100%'\n",
    "treemap_style['width'] = '100%'\n",
    "\n",
    "\n",
    "# ============ #\n",
    "#  Data Table  #\n",
    "# ============ #\n",
    "\n",
    "# Style\n",
    "data_table_cell_style = dict()\n",
    "data_table_cell_style['textAlign'] = 'left'\n",
    "data_table_cell_style['overflow'] = 'hidden'\n",
    "data_table_cell_style['textOverflow'] = 'ellipsis'\n",
    "data_table_cell_style['maxWidth'] = 0\n",
    "data_table_cell_style['backgroundColor'] = 'rgb(20, 20, 20)'\n",
    "data_table_cell_style['color'] = 'white'\n",
    "\n",
    "data_table_header_style = dict()\n",
    "data_table_header_style['backgroundColor'] = color_d['purple']\n",
    "\n",
    "\n",
    "# ======== #\n",
    "#  Labels  #\n",
    "# ======== #\n",
    "\n",
    "# Style\n",
    "clustering_alg_drop_down_label_style = dict()\n",
    "clustering_alg_drop_down_label_style['color'] = 'white'\n",
    "\n",
    "coordinate_space_drop_down_label_style = dict()\n",
    "coordinate_space_drop_down_label_style['color'] = 'white'\n",
    "\n",
    "dim_reduction_drop_down_label_style = dict()\n",
    "dim_reduction_drop_down_label_style['color'] = 'white'"
   ]
  },
  {
   "cell_type": "markdown",
   "metadata": {},
   "source": [
    "### Dash Configuration"
   ]
  },
  {
   "cell_type": "code",
   "execution_count": null,
   "metadata": {},
   "outputs": [],
   "source": [
    "# ================= #\n",
    "#  3d Scatter Plot  #\n",
    "# ================= #\n",
    "scatter_plot_3d_config = dict()\n",
    "scatter_plot_3d_config['responsive'] = True\n",
    "\n",
    "\n",
    "# ========= #\n",
    "#  Treemap  #\n",
    "# ========= #\n",
    "treemap_config = dict()\n",
    "treemap_config['responsive'] = True"
   ]
  },
  {
   "cell_type": "markdown",
   "metadata": {},
   "source": [
    "### Dash Dropdown Options"
   ]
  },
  {
   "cell_type": "code",
   "execution_count": null,
   "metadata": {},
   "outputs": [],
   "source": [
    "clustering_alg_drop_down_options = [\n",
    "    {'label': 'KNN', 'value': 'KNN'},\n",
    "    {'label': 'GMM', 'value': 'GMM'},\n",
    "    {'label': 'Bayesian GMM', 'value': 'BGMM'},\n",
    "    {'label': 'Affinity Prop.', 'value': 'AP'},\n",
    "    {'label': 'KMEANS', 'value': 'KM'},\n",
    "    {'label': 'SVM', 'value': 'SVM'},\n",
    "]\n",
    "\n",
    "coordinate_space_drop_down_options = [\n",
    "    {'label': 'Cartesian', 'value': 'CT'},\n",
    "    {'label': 'Spherical', 'value': 'SP'}\n",
    "]\n",
    "\n",
    "dim_reduction_drop_down_options = [\n",
    "    {'label': 'PCA', 'value': 'PCA'},\n",
    "    {'label': 'ICA', 'value': 'ICA'},\n",
    "    {'label': 'LDA', 'value': 'LDA'},\n",
    "    {'label': 'Sparse RP', 'value': 'SRP'},\n",
    "    {'label': 'Gaussian RP', 'value': 'GRP'}\n",
    "]"
   ]
  },
  {
   "cell_type": "markdown",
   "metadata": {},
   "source": [
    "### Dash Main"
   ]
  },
  {
   "cell_type": "code",
   "execution_count": null,
   "metadata": {
    "id": "Je-dqJAGlzA9"
   },
   "outputs": [],
   "source": [
    "app = JupyterDash(__name__, external_stylesheets=external_stylesheets)\n",
    "cache = Cache()\n",
    "cache.init_app(app.server, config=CACHE_CONFIG)\n",
    "\n",
    "\n",
    "# =============== #\n",
    "#  Cluster Table  #\n",
    "# =============== #\n",
    "table = pd.DataFrame(\n",
    "    data=list(embed_weights.keys()),\n",
    "    columns=['token'])\n",
    "\n",
    "# ============= #\n",
    "#  Scatterplot  #\n",
    "# ============= #\n",
    "scatter_plot_3d_fig = px.scatter_3d(\n",
    "                      scatter_plot_3d_df,\n",
    "                      x='x1',\n",
    "                      y='x2',\n",
    "                      z='x3',\n",
    "                      hover_name='token')\n",
    "\n",
    "scatter_plot_2d_fig = px.scatter(\n",
    "                     scatter_plot_3d_df,\n",
    "                     x='x1',\n",
    "                     y='x2',\n",
    "                     hover_name='token')\n",
    "\n",
    "scatter_plot_3d_fig.update_traces(marker=scatter_plot_3d_marker)\n",
    "scatter_plot_3d_fig['layout']['uirevision'] = 1\n",
    "\n",
    "scatter_plot_2d_fig.update_traces(marker=scatter_plot_3d_marker)\n",
    "scatter_plot_2d_fig['layout']['uirevision'] = 1\n",
    "\n",
    "\n",
    "# ========= #\n",
    "#  Treemap  #\n",
    "# ========= #\n",
    "treemap_fig = px.treemap(\n",
    "    parsed_tree_df,\n",
    "    path=col_name_list,\n",
    "    color='sum')\n",
    "\n",
    "\n",
    "# ============ #\n",
    "#  App Layout  #\n",
    "# ============ #\n",
    "app.layout = html.Div([\n",
    "\n",
    "        html.Div([\n",
    "\n",
    "            # -- Clustering Technique Dropdown -- #\n",
    "            html.Label(\n",
    "                \"Clustering Algorithm (TODO)\",\n",
    "                style=clustering_alg_drop_down_label_style),\n",
    "            dcc.Dropdown(\n",
    "                id='cluster-dropdown',\n",
    "                options=clustering_alg_drop_down_options,\n",
    "                value='KNN'),\n",
    "\n",
    "            # -- Coordinate Space Dropdown -- #\n",
    "            html.Label(\n",
    "                \"Coordinate Space\",\n",
    "                style=coordinate_space_drop_down_label_style),\n",
    "            dcc.Dropdown(\n",
    "                id='coord-dropdown',\n",
    "                options=coordinate_space_drop_down_options,\n",
    "                value='CT'),\n",
    "\n",
    "            # -- Dimensionality Reduction Technique Dropdown -- #\n",
    "            html.Label(\n",
    "                \"Dimensionality Reduction (TODO)\",\n",
    "                style=dim_reduction_drop_down_label_style),\n",
    "            dcc.Dropdown(\n",
    "                id='dr-dropdown',\n",
    "                options=dim_reduction_drop_down_options,\n",
    "                value='PCA'\n",
    "            )\n",
    "        ], className='options-graph-container'),\n",
    "\n",
    "        # -- 3d Scatter Plot -- #\n",
    "        html.Div(\n",
    "            [dcc.Graph(\n",
    "                id='3d_scat',\n",
    "                figure=scatter_plot_3d_fig,\n",
    "                config=scatter_plot_3d_config,\n",
    "                style=scatter_plot_3d_style),\n",
    "             dcc.Slider(\n",
    "                id='my-slider',\n",
    "                min=0.5,\n",
    "                max=0.9,\n",
    "                step=0.05,\n",
    "                value=0.5)],\n",
    "            className='main-graph-container',\n",
    "            id='graph_div'),\n",
    "\n",
    "        # -- Tree Map -- #\n",
    "        html.Div(\n",
    "            dcc.Graph(\n",
    "                id='3d_tree',\n",
    "                figure=treemap_fig,\n",
    "                config=treemap_config,\n",
    "                style=treemap_style),\n",
    "            className='secondary-graph-container',\n",
    "            id='tree_div'),\n",
    "\n",
    "        # -- Neighbors Datatable -- #\n",
    "        html.Div(\n",
    "            children=[dash_table.DataTable(\n",
    "                 id='table',\n",
    "                 columns=[{\"name\": i, \"id\": i} for i in table.columns],\n",
    "                 data=pd.DataFrame().to_dict('records'),\n",
    "                 style_cell=data_table_cell_style,\n",
    "                 style_header=data_table_header_style,\n",
    "             )],\n",
    "            className='related-graph',\n",
    "            id='data_table'),\n",
    "\n",
    "        # signal value to trigger callbacks\n",
    "        dcc.Store(id='signal')],\n",
    "\n",
    "    id='report-container')\n",
    "\n",
    "\n",
    "# ============= #\n",
    "#  Memoization  #\n",
    "# ============= #\n",
    "\n",
    "# Table of Contents:\n",
    "# -----------------------------\n",
    "# 1. Projection DataFrame\n",
    "# 2. Coordinates\n",
    "# 3. Dimensionality Reductions\n",
    "# 4. Clustering Algorithms\n",
    "# -----------------------------\n",
    "\n",
    "# -- 1. Projection DataFrame -- #\n",
    "@cache.memoize()\n",
    "def dataframe_store(embeddings):\n",
    "    new_df = pd.DataFrame(\n",
    "        data=embeddings,\n",
    "        columns=scatter_plot_3d_cols)\n",
    "    new_df['x1'] = pd.to_numeric(new_df['x1'])\n",
    "    new_df['x2'] = pd.to_numeric(new_df['x2'])\n",
    "    new_df['x3'] = pd.to_numeric(new_df['x3'])\n",
    "    return new_df\n",
    "\n",
    "\n",
    "# -- 2. Coordinates -- #\n",
    "@cache.memoize()\n",
    "def coordinate_space_store(value, embeddings):\n",
    "    # calculate new coordinate space\n",
    "    if value == 'SP':\n",
    "        spherical_embeddings = get_spherical_coords(embeddings)\n",
    "        embeddings_stack_tup = (embedding_vocab_arr, spherical_embeddings)\n",
    "        named_embeddings = np.hstack(embeddings_stack_tup)\n",
    "    elif value == \"CT\":\n",
    "        embeddings_stack_tup = (embedding_vocab_arr, embeddings)\n",
    "        named_embeddings = np.hstack(embeddings_stack_tup)\n",
    "    else:\n",
    "        return no_update\n",
    "    return named_embeddings\n",
    "\n",
    "\n",
    "# -- 3. Dimensionality Reduction -- #\n",
    "@cache.memoize()\n",
    "def dimension_reduct_store(value):\n",
    "    # calculate new dimensionality reduction algorithm\n",
    "    if value == \"PCA\":\n",
    "        dr_embeddings = pca.transform(weights)\n",
    "    elif value == \"ICA\":\n",
    "        dr_embeddings = ica.transform(weights)\n",
    "    elif value == \"SRP\":\n",
    "        dr_embeddings = srp.transform(weights)\n",
    "    else:\n",
    "        return no_update\n",
    "    return dr_embeddings\n",
    "\n",
    "\n",
    "# -- 4. Clustering Algorithms -- #\n",
    "@cache.memoize()\n",
    "def clustering_algo_store(value, damp_value):\n",
    "    # calculate new clustering algorithm\n",
    "    if value == \"KNN\":\n",
    "        model = NearestNeighbors(n_neighbors=W2V_NEIGHBORS, algorithm='auto')\n",
    "    elif value == \"AP\":\n",
    "        model = AffinityPropagation(damping=damp_value, random_state=DASH_SEED)\n",
    "    elif value == \"KM\":\n",
    "        model = KMeans(n_clusters=4)\n",
    "    elif value == \"GMM\":\n",
    "        model = GaussianMixture(n_components=4)\n",
    "    elif value == \"SVM\":\n",
    "        model = SVC(kernel='poly', degree=3, probability=True, random_state=DASH_SEED)\n",
    "    return model\n",
    "\n",
    "\n",
    "# =========== #\n",
    "#  Callbacks  #\n",
    "# =========== #\n",
    "\n",
    "# -- Calculate Projection Data -- #\n",
    "@app.callback(Output('signal', 'data'),\n",
    "              Input('dr-dropdown', 'value'),\n",
    "              Input('cluster-dropdown', 'value'),\n",
    "              Input('coord-dropdown', 'value'),\n",
    "              Input('my-slider', 'value'))\n",
    "def compute_coordinate_space(dr_val, cluster_val, coord_val, damp_value):\n",
    "    return (dr_val, cluster_val, coord_val, damp_value)\n",
    "\n",
    "\n",
    "# -- Point Selection Mechanics -- #\n",
    "@app.callback(Output(\"table\", \"data\"),\n",
    "              Output(\"3d_scat\", \"figure\"),\n",
    "              Input('3d_scat', 'clickData'),\n",
    "              Input(\"signal\", \"data\"),\n",
    "              Input(\"table\", \"selected_rows\"))\n",
    "def select_point(clickData, value, rows):\n",
    "    ctx = dash.callback_context\n",
    "    ids = [c['prop_id'] for c in ctx.triggered]\n",
    "\n",
    "    embeddings = dimension_reduct_store(value[0])\n",
    "    model = clustering_algo_store(value[1], value[3])\n",
    "    named_embeddings = coordinate_space_store(value[2], embeddings)\n",
    "    df = dataframe_store(named_embeddings)\n",
    "\n",
    "    clustering_model = model.fit(named_embeddings[:, 1:4].astype(float))\n",
    "\n",
    "    if '3d_scat.clickData' in ids:\n",
    "        if clickData:\n",
    "            for p in clickData['points']:\n",
    "                if value[1] != \"KNN\":\n",
    "                    return no_update, no_update\n",
    "\n",
    "                coord_list = [p['x'], p['y'], p['z']]\n",
    "                query_arr = np.array(coord_list).reshape(1, -1)\n",
    "\n",
    "                _, neighbors = clustering_model.kneighbors(X=query_arr)\n",
    "                neighbors_list = neighbors.tolist()[0]\n",
    "                tokens = []\n",
    "                for idx in neighbors_list:\n",
    "                    tokens.append(table.iloc[idx])\n",
    "                update = pd.DataFrame(data=tokens)\n",
    "\n",
    "                selected_df = df[df.index.isin(neighbors_list)]\n",
    "                nonselected_df = df.drop(index=neighbors_list)\n",
    "\n",
    "                ff = px.scatter_3d(\n",
    "                    selected_df,\n",
    "                    x='x1',\n",
    "                    y='x2',\n",
    "                    z='x3',\n",
    "                    hover_name='token')\n",
    "\n",
    "                ff = ff.update_traces(marker=scatter_plot_3d_selected_marker)\n",
    "\n",
    "                if rows is not None:\n",
    "                    table_point = selected_df[selected_df['token'] == rows]\n",
    "                    ff2_1 = px.scatter_3d(\n",
    "                            table_point,\n",
    "                            x='x1',\n",
    "                            y='x2',\n",
    "                            z='x3',\n",
    "                            text='token')\n",
    "\n",
    "                    ff2_1 = ff2_1.update_traces(marker=scatter_plot_3d_selected_table_marker)\n",
    "                    ff.add_trace(ff2_1.data[0])\n",
    "\n",
    "                ff2 = px.scatter_3d(\n",
    "                    nonselected_df,\n",
    "                    x='x1',\n",
    "                    y='x2',\n",
    "                    z='x3',\n",
    "                    hover_name='token')\n",
    "\n",
    "                ff2 = ff2.update_traces(marker=scatter_plot_3d_nonselected_marker)\n",
    "\n",
    "                ff.add_trace(ff2.data[0])\n",
    "                ff['layout']['uirevision'] = 1\n",
    "\n",
    "                return update.to_dict('records'), ff\n",
    "    elif 'signal.data' in ids:\n",
    "        if value[1] != \"KNN\":\n",
    "            y_pred = clustering_model.predict(embeddings)\n",
    "\n",
    "            df.insert(0, \"Label\", y_pred, True)\n",
    "            ff = px.scatter_3d(\n",
    "                df,\n",
    "                x='x1',\n",
    "                y='x2',\n",
    "                z='x3',\n",
    "                color='Label',\n",
    "                hover_name='token')\n",
    "\n",
    "            ff.update_traces(marker=scatter_plot_3d_marker_no_color)\n",
    "\n",
    "            if \"GMM\" not in value[1]:\n",
    "                centers = pd.DataFrame(data=clustering_model.cluster_centers_, columns=[\"x1\", \"x2\", \"x3\"])\n",
    "                ff2 = px.scatter_3d(\n",
    "                    centers,\n",
    "                    x='x1',\n",
    "                    y='x2',\n",
    "                    z='x3')\n",
    "                ff2.update_traces(marker=scatter_plot_3d_marker_cluster_center)\n",
    "\n",
    "                ff.add_trace(ff2.data[0])\n",
    "        else:\n",
    "            ff = px.scatter_3d(\n",
    "                df,\n",
    "                x='x1',\n",
    "                y='x2',\n",
    "                z='x3',\n",
    "                hover_name='token')\n",
    "\n",
    "            ff.update_traces(marker=scatter_plot_3d_marker)\n",
    "\n",
    "        ff['layout']['uirevision'] = 1\n",
    "\n",
    "        return no_update, ff\n",
    "    else:\n",
    "        return no_update, no_update\n",
    "\n",
    "\n",
    "app.run_server(host='0.0.0.0', mode='jupyterlab')"
   ]
  },
  {
   "cell_type": "markdown",
   "metadata": {
    "id": "VZNPHgwy3XXZ"
   },
   "source": [
    "# Transformer Pipeline"
   ]
  },
  {
   "cell_type": "code",
   "execution_count": null,
   "metadata": {},
   "outputs": [],
   "source": [
    "@dataclass\n",
    "class TransformerGlobalConfig:\n",
    "    d_model: int = 512\n",
    "    max_seq_length: int = 200\n",
    "    global_training: bool = True\n",
    "    storage_path: str = '/results/'\n",
    "\n",
    "    def load(self, config):\n",
    "        set_attributes(self, config)\n",
    "\n",
    "\n",
    "@dataclass\n",
    "class BERTLayerConfig:\n",
    "    num_attention_heads: int = 8\n",
    "    num_encoder_layers: int = 12\n",
    "    dff: int = 2048\n",
    "    max_seq_len: int = 2048\n",
    "    dropout_rate: float = 0.1\n",
    "    load_model: bool = False\n",
    "    save_model: bool = True\n",
    "    training: bool = True\n",
    "\n",
    "    def load(self, config):\n",
    "        set_attributes(self, config)\n",
    "\n",
    "\n",
    "@dataclass\n",
    "class HitAnomalyLayerConfig:\n",
    "    num_attention_heads: int = 12\n",
    "    num_encoder_layers: int = 3\n",
    "    dff: int = 2048\n",
    "    max_seq_len: int = 2048\n",
    "    dropout_rate: float = 0.1\n",
    "    load_model: bool = False\n",
    "    save_model: bool = True\n",
    "    training: bool = True\n",
    "\n",
    "    def load(self, config):\n",
    "        set_attributes(self, config)\n",
    "\n",
    "\n",
    "class TransformerConfig:\n",
    "    def __init__(self):\n",
    "        self._global = TransformerGlobalConfig()\n",
    "        self.BERT = BERTLayerConfig()\n",
    "        self.HitAnomaly = HitAnomalyLayerConfig()\n",
    "\n",
    "    def load(self, path):\n",
    "        try:\n",
    "            with open(path) as f:\n",
    "                transformer_config = yaml.load(f, Loader=yaml.FullLoader)\n",
    "        except FileNotFoundError as e:\n",
    "            logger.warning(e)\n",
    "            return None\n",
    "\n",
    "        self._global.load(transformer_config)\n",
    "        self.BERT.load(transformer_config)\n",
    "        self.HitAnomaly.load(transformer_config)\n",
    "        \n",
    "def set_attributes_from_object(self, *args):\n",
    "    try:\n",
    "        for obj in args:\n",
    "            for attr_key, attr in obj.__dict__.items():\n",
    "                setattr(self, attr_key, attr)\n",
    "    except Exception as e:\n",
    "        logger.warning(e)"
   ]
  },
  {
   "cell_type": "markdown",
   "metadata": {
    "id": "2K5ODbmo_hWj"
   },
   "source": [
    "## Metric Objects"
   ]
  },
  {
   "cell_type": "markdown",
   "metadata": {
    "id": "z5QbcqbJ_vZH"
   },
   "source": [
    "### Loss Function"
   ]
  },
  {
   "cell_type": "code",
   "execution_count": null,
   "metadata": {
    "id": "WytrcTtl-4q2"
   },
   "outputs": [],
   "source": [
    "def loss_function(real, pred):\n",
    "    mask = tf.math.logical_not(tf.math.equal(real, 0))\n",
    "    loss_ = loss_object(real, pred)\n",
    "\n",
    "    mask = tf.cast(mask, dtype=loss_.dtype)\n",
    "    loss_ *= mask\n",
    "\n",
    "    return tf.reduce_sum(loss_) / tf.reduce_sum(mask)"
   ]
  },
  {
   "cell_type": "markdown",
   "metadata": {
    "id": "73Jm1yHR_wou"
   },
   "source": [
    "### Accuracy Function"
   ]
  },
  {
   "cell_type": "code",
   "execution_count": null,
   "metadata": {
    "id": "mZodkFf-_09c"
   },
   "outputs": [],
   "source": [
    "def accuracy_function(real, pred):\n",
    "    accuracies = tf.equal(real, tf.argmax(pred, axis=1))\n",
    "\n",
    "    mask = tf.math.logical_not(tf.math.equal(real, 0))\n",
    "    accuracies = tf.math.logical_and(mask, accuracies)\n",
    "\n",
    "    accuracies = tf.cast(accuracies, dtype=tf.float32)\n",
    "    mask = tf.cast(mask, dtype=tf.float32)\n",
    "    return tf.reduce_sum(accuracies) / tf.reduce_sum(mask)"
   ]
  },
  {
   "cell_type": "markdown",
   "metadata": {
    "id": "MubVySBE_wVH"
   },
   "source": [
    "### Custom Learning Rate Schedule"
   ]
  },
  {
   "cell_type": "code",
   "execution_count": null,
   "metadata": {
    "id": "_FjRZs2A_286"
   },
   "outputs": [],
   "source": [
    "class CustomSchedule(tf.keras.optimizers.schedules.LearningRateSchedule):\n",
    "\n",
    "    def __init__(self, d_model: int, warmup_steps=4000):\n",
    "        super(CustomSchedule, self).__init__()\n",
    "\n",
    "        self.d_model = d_model\n",
    "        self.d_model = tf.cast(self.d_model, tf.float32)\n",
    "        self.warmup_steps = warmup_steps\n",
    "\n",
    "    def __call__(self, step):\n",
    "        arg1 = tf.math.rsqrt(step)\n",
    "        arg2 = step * (self.warmup_steps ** -1.5)\n",
    "\n",
    "        return tf.math.rsqrt(self.d_model) * tf.math.minimum(arg1, arg2)"
   ]
  },
  {
   "cell_type": "markdown",
   "metadata": {
    "id": "0JtgL-iQkqj2"
   },
   "source": [
    "## Pipeline Objects"
   ]
  },
  {
   "cell_type": "markdown",
   "metadata": {
    "id": "2zzi2tYRAYC1"
   },
   "source": [
    "### PositionalEncodingLayer"
   ]
  },
  {
   "cell_type": "code",
   "execution_count": null,
   "metadata": {
    "id": "QfyQUMo4Aarf"
   },
   "outputs": [],
   "source": [
    "class PositionalEncoding(tf.keras.layers.Layer):\n",
    "    def __init__(self, max_steps, max_dims, dtype=tf.float32, **kwargs):\n",
    "        super().__init__(dtype=dtype, **kwargs)\n",
    "        if max_dims % 2 == 1: max_dims += 1  # max_dims must be even\n",
    "        p, i = np.meshgrid(np.arange(max_steps), np.arange(max_dims // 2))\n",
    "        pos_emb = np.empty((1, max_steps, max_dims))\n",
    "        pos_emb[0, :, ::2] = np.sin(p / 10000 ** (2 * i / max_dims)).T\n",
    "        pos_emb[0, :, 1::2] = np.cos(p / 10000 ** (2 * i / max_dims)).T\n",
    "        self.positional_embedding = tf.constant(pos_emb.astype(self.dtype))\n",
    "\n",
    "    def call(self, inputs):\n",
    "        shape = tf.shape(inputs)\n",
    "        return inputs + self.positional_embedding[:, :shape[-2], :shape[-1]]"
   ]
  },
  {
   "cell_type": "markdown",
   "metadata": {
    "id": "ARsH5IxX_Th0"
   },
   "source": [
    "### EncoderBlock"
   ]
  },
  {
   "cell_type": "code",
   "execution_count": null,
   "metadata": {
    "id": "QSmeFr022zA0"
   },
   "outputs": [],
   "source": [
    "class EncoderBlock(Layer):\n",
    "\n",
    "    def __init__(\n",
    "        self,\n",
    "        d_model: int,\n",
    "        num_heads: int,\n",
    "        dff: int,\n",
    "        rate=0.1):\n",
    "        super(EncoderBlock, self).__init__()\n",
    "\n",
    "        self.multi_headed_attention = MultiHeadAttention(num_heads=num_heads,\n",
    "                                                         key_dim=d_model // num_heads,\n",
    "                                                         dropout=0.1,\n",
    "                                                         attention_axes=(1))\n",
    "\n",
    "        self.feed_forward_network = Sequential([\n",
    "            Dense(dff, activation='relu'),  # (batch_size, seq_len, dff)\n",
    "            Dense(d_model, activation='relu')  # (batch_size, seq_len, d_model)\n",
    "        ])\n",
    "\n",
    "        self.layernorm1 = LayerNormalization(epsilon=1e-6)\n",
    "        self.layernorm2 = LayerNormalization(epsilon=1e-6)\n",
    "\n",
    "        self.dropout1 = Dropout(rate)\n",
    "        self.dropout2 = Dropout(rate)\n",
    "\n",
    "    def call(self, x, mask):\n",
    "        # (1) - Attention Score\n",
    "#         logger.info('MULTIHEADED ATTENTION')\n",
    "#         logger.info(x.shape)\n",
    "        attn_output, attn_weights = self.multi_headed_attention(\n",
    "            x,\n",
    "            x,\n",
    "            return_attention_scores=True)  # (batch_size, input_seq_len, d_model)\n",
    "\n",
    "        # (2) - Add & Normalize\n",
    "        attn_output = self.dropout1(attn_output, training=True)\n",
    "        out1 = self.layernorm1(x + attn_output)  # (batch_size, input_seq_len, d_model)\n",
    "\n",
    "        # (3) - Feed Forward NN\n",
    "        feed_forward_output = self.feed_forward_network(out1)  # (batch_size, input_seq_len, d_model)\n",
    "\n",
    "        # (4) - Add & Normalize\n",
    "        feed_forward_output = self.dropout2(feed_forward_output, training=True)\n",
    "        out2 = self.layernorm2(out1 + feed_forward_output)  # (batch_size, input_seq_len, d_model)\n",
    "\n",
    "        return tf.convert_to_tensor(out2), tf.convert_to_tensor(attn_weights)"
   ]
  },
  {
   "cell_type": "markdown",
   "metadata": {},
   "source": [
    "### BERT"
   ]
  },
  {
   "cell_type": "code",
   "execution_count": null,
   "metadata": {},
   "outputs": [],
   "source": [
    "class BERTLayer(Layer):\n",
    "    def __init__(\n",
    "        self,\n",
    "        global_config: TransformerGlobalConfig,\n",
    "        config: BERTLayerConfig):\n",
    "        super(BERTLayer, self).__init__()\n",
    "\n",
    "        set_attributes_from_object(\n",
    "            self, \n",
    "            global_config,\n",
    "            config)\n",
    "\n",
    "        self.bert_layer_blocks = [EncoderBlock(\n",
    "            self.d_model,\n",
    "            self.num_attention_heads,\n",
    "            self.dff,\n",
    "            rate=self.dropout_rate) for _ in range(self.num_encoder_layers)]\n",
    "\n",
    "    def call(self, input_: tf.tuple, **kwargs):\n",
    "        enc_input = input_[0]\n",
    "#         logger.info('BERT LAYER')\n",
    "#         logger.info(enc_input.shape)\n",
    "        encoding_padding_mask = None\n",
    "        # BERT for Log Sequence Embedding\n",
    "        for layer_idx in range(self.num_encoder_layers):\n",
    "#             logger.info('BERT LAYER LOOP')\n",
    "#             logger.info(enc_input.shape)            \n",
    "            enc_output, attention = self.bert_layer_blocks[layer_idx](enc_input, encoding_padding_mask)\n",
    "            bert_ret = tf.tuple(enc_output, attention)\n",
    "        return bert_ret"
   ]
  },
  {
   "cell_type": "markdown",
   "metadata": {},
   "source": [
    "### HitAnomaly"
   ]
  },
  {
   "cell_type": "code",
   "execution_count": null,
   "metadata": {},
   "outputs": [],
   "source": [
    "class HitAnomalyLayer(Layer):\n",
    "    def __init__(\n",
    "        self,\n",
    "        vocab_size: int,\n",
    "        global_config: TransformerGlobalConfig,\n",
    "        config: HitAnomalyLayerConfig):\n",
    "        super(HitAnomalyLayer, self).__init__()\n",
    "        \n",
    "        self.vocab_size = vocab_size\n",
    "        set_attributes_from_object(\n",
    "            self, \n",
    "            global_config,\n",
    "            config)\n",
    "        \n",
    "        self.encoding_blocks = [EncoderBlock(\n",
    "            self.d_model,\n",
    "            self.num_attention_heads,\n",
    "            self.dff,\n",
    "            rate=self.dropout_rate\n",
    "        ) for _ in range(self.num_encoder_layers)]\n",
    "\n",
    "        self.hidden_layer_output = []\n",
    "\n",
    "#     @tf.function(jit_compile=True)\n",
    "    def call(self, input_: tf.tuple, **kwargs):\n",
    "        enc_input = input_[0]\n",
    "        encoding_padding_mask = None\n",
    "\n",
    "        # Encoder Block Hidden Layers for Log Encoder\n",
    "        # (batch_size, inp_seq_len, d_model), (batch_size, class, inp_seq_len, inp_seq_len)\n",
    "        for layer_idx in range(self.num_encoder_layers - 1):\n",
    "            enc_output, att = self.encoding_blocks[layer_idx](enc_input, encoding_padding_mask)\n",
    "            self.hidden_layer_output.append(enc_output)\n",
    "\n",
    "        fin_output = enc_output\n",
    "        final_output = tf.reduce_mean(fin_output, axis=1)\n",
    "        final_output = tf.expand_dims(final_output, axis=0)\n",
    "\n",
    "        # Last Encoding Block for Log Sequence Representation\n",
    "        out, att = self.encoding_blocks[self.num_encoder_layers - 1](final_output, encoding_padding_mask)\n",
    "        self.hidden_layer_output.append(out)\n",
    "\n",
    "        # Final Pooling Layer\n",
    "        seq_representation = tf.reduce_mean(out, axis=1)\n",
    "\n",
    "        return seq_representation, att"
   ]
  },
  {
   "cell_type": "markdown",
   "metadata": {
    "id": "t-Dg1Sc6_QU2"
   },
   "source": [
    "### Transformer"
   ]
  },
  {
   "cell_type": "code",
   "execution_count": null,
   "metadata": {
    "id": "NRk21bVC2oWu"
   },
   "outputs": [],
   "source": [
    "class Transformer(Model):\n",
    "\n",
    "    def __init__(\n",
    "        self,\n",
    "        tokenizer: PrimeTokenizer,\n",
    "        config: TransformerConfig):\n",
    "        super(Transformer, self).__init__()\n",
    "        \n",
    "        self.vocab_size = tokenizer.get_vocab_size()   \n",
    "        set_attributes_from_object(\n",
    "            self, \n",
    "            config._global)\n",
    "\n",
    "        self.embedding = Embedding(\n",
    "            self.vocab_size,\n",
    "            self.d_model,\n",
    "            input_length=self.max_seq_len)\n",
    "\n",
    "        self.pos_encoding = PositionalEncoding(\n",
    "            self.max_seq_len, \n",
    "            self.d_model)\n",
    "\n",
    "        self.bert_layer = BERTLayer(\n",
    "            config._global,\n",
    "            config.BERT)\n",
    "\n",
    "        self.hitanomaly_layer = HitAnomalyLayer(\n",
    "            self.vocab_size,\n",
    "            config._global,\n",
    "            config.HitAnomaly)\n",
    "\n",
    "        #self.dropout = Dropout(rate)\n",
    "\n",
    "#     @tf.function(jit_compile=True)\n",
    "    def call(self, input_tuple: tf.tuple, **kwargs):\n",
    "        log_batch = input_tuple[0]\n",
    "#         logger.info('INITIAL')\n",
    "#         logger.info(log_batch.shape)\n",
    "        encoding_padding_mask = None # input_tuple[1]\n",
    "        \n",
    "        embedding_tensor = self.embedding(log_batch) # (batch_size, input_seq_len, d_model)\n",
    "#         logger.info('POST EMBEDDING LAYER')\n",
    "#         logger.info(embedding_tensor.shape)\n",
    "        \n",
    "        embedding_tensor = self.pos_encoding(embedding_tensor)\n",
    "#         logger.info('POST POSITIONAL ENCODING')\n",
    "#         logger.info(embedding_tensor.shape)\n",
    "        #embedding_tensor = self.dropout(embedding_tensor, training=TRAINING)\n",
    "\n",
    "        # BERT for Log Sequence Embedding\n",
    "        bert_arg = tf.tuple(embedding_tensor, encoding_padding_mask)\n",
    "        bert_ret = self.bert_layer(bert_arg)\n",
    "\n",
    "        # Encoder Block Hidden Layers for Log Sequence Representation\n",
    "#         seq_representation, att = self.hitanomaly_layer(tf.tuple(enc_output, encoding_padding_mask))\n",
    "        \n",
    "\n",
    "        return bert_ret"
   ]
  },
  {
   "cell_type": "markdown",
   "metadata": {},
   "source": [
    "## Transformer Main"
   ]
  },
  {
   "cell_type": "markdown",
   "metadata": {},
   "source": [
    "### Batch Processing"
   ]
  },
  {
   "cell_type": "code",
   "execution_count": null,
   "metadata": {
    "id": "OtCEbgsytePO"
   },
   "outputs": [],
   "source": []
  },
  {
   "cell_type": "markdown",
   "metadata": {
    "id": "gmiGMB4_-l8x"
   },
   "source": [
    "### Main (Initialization)"
   ]
  },
  {
   "cell_type": "code",
   "execution_count": null,
   "metadata": {
    "id": "j7hXYiqW3o6M"
   },
   "outputs": [],
   "source": [
    "gpus = tf.config.list_physical_devices('GPU')\n",
    "if gpus:\n",
    "  # Restrict TensorFlow to only use the first GPU\n",
    "  try:\n",
    "    tf.config.experimental.set_visible_devices(gpus[0], 'GPU')\n",
    "    logical_gpus = tf.config.experimental.list_logical_devices('GPU')\n",
    "    print(len(gpus), \"Physical GPUs,\", len(logical_gpus), \"Logical GPU\")\n",
    "  except RuntimeError as e:\n",
    "    # Visible devices must be set before GPUs have been initialized\n",
    "    print(e)\n",
    "\n",
    "# -- Transformer Model -- #\n",
    "transformer_config_path = SOURCE + '/assets/notebooks/TransformerConfig.yaml'\n",
    "transformer_config = TransformerConfig()\n",
    "transformer_config.load(transformer_config_path)\n",
    "# optimus_prime = Transformer(prime_tokenizer, transformer_config)\n",
    "\n",
    "t_config = transformer_config._global\n",
    "\n",
    "# -- Pipeline Info -- #\n",
    "attns = []\n",
    "    \n",
    "# -- Data Batches -- #\n",
    "# batched_dataset = process_all_batches(n_iter, log_labels, t_config.batch_size)\n",
    "\n",
    "# -- Model Metrics -- #\n",
    "learning_rate = CustomSchedule(t_config.d_model)\n",
    "epoch_loss = Mean(name='train_loss')\n",
    "epoch_accuracy = Mean(name='train_accuracy')\n",
    "loss_object = SparseCategoricalCrossentropy(from_logits=True)\n",
    "optimizer = Adam(learning_rate, beta_1=0.9, beta_2=0.98, epsilon=1e-9)\n",
    "\n",
    "# -- Classification Step Layers -- #\n",
    "add_att_layer = AdditiveAttention()\n",
    "softmax = Softmax()\n",
    "s1 = Sequential([\n",
    "    Dense(t_config.batch_size, activation=t_config.activation),\n",
    "    Dense(4, activation=t_config.activation),\n",
    "    Softmax()\n",
    "])\n",
    "\n",
    "# -- Checkpoints -- #\n",
    "# checkpoint_path = SOURCE + \"checkpoints/\"\n",
    "# checkpoint = Checkpoint(step=tf.Variable(1), transformer=optimus_prime, optimizer=optimizer)\n",
    "# checkpoint_manager = CheckpointManager(checkpoint, checkpoint_path, max_to_keep=5)\n",
    "\n",
    "# tf.debugging.set_log_device_placement(True)\n",
    "writer = tf.summary.create_file_writer(SOURCE + t_config.logdir)"
   ]
  },
  {
   "cell_type": "markdown",
   "metadata": {},
   "source": [
    "### TrainStep"
   ]
  },
  {
   "cell_type": "code",
   "execution_count": null,
   "metadata": {
    "id": "hT-fshbn3WUy"
   },
   "outputs": [],
   "source": [
    "batch_size = transformer_config._global.batch_size\n",
    "max_seq_len = transformer_config._global.max_seq_len\n",
    "\n",
    "train_step_signature = [\n",
    "    tf.TensorSpec(shape=([batch_size, max_seq_len]), dtype=tf.int32),\n",
    "    tf.TensorSpec(shape=([batch_size]), dtype=tf.int8)\n",
    "]\n",
    "\n",
    "@tf.function(input_signature=train_step_signature, \n",
    "             experimental_compile=True)\n",
    "def train_step(log_batch: tf.Tensor, labels: tf.Tensor):\n",
    "    \n",
    "    transformer_input = tf.tuple([\n",
    "        log_batch,  # <tf.Tensor: shape=(batch_size, max_seq_len), dtype=int32>\n",
    "        labels  # <tf.Tensor: shape=(batch_size, num_classes), dtype=float32>\n",
    "    ])\n",
    "    \n",
    "    with tf.GradientTape() as tape:\n",
    "        transformer_ret = optimus_prime(transformer_input)\n",
    "#         a_s = add_att_layer([Rs, Rs])\n",
    "#         y = softmax(a_s * Rs)\n",
    "#         print(a_s.shape)\n",
    "        # y = Rs\n",
    "#         loss = tf.py_function(loss_function, [labels, y], tf.float32)\n",
    "#         pred = s1(y)\n",
    "#         labels = tf.cast(labels, tf.int8)\n",
    "    # Optimize the model\n",
    "#     grads = tape.gradient(loss, optimus_prime.trainable_variables)\n",
    "#     optimizer.apply_gradients(zip(grads, optimus_prime.trainable_variables))\n",
    "\n",
    "#     acc = accuracy_function(labels, pred)\n",
    "\n",
    "    # Tracking Progress\n",
    "#     epoch_loss.update_state(loss)  # Adding Batch Loss\n",
    "#     epoch_accuracy.update_state(acc)\n",
    "\n",
    "    return transformer_ret"
   ]
  },
  {
   "cell_type": "code",
   "execution_count": null,
   "metadata": {},
   "outputs": [],
   "source": [
    "train_step_signature"
   ]
  },
  {
   "cell_type": "markdown",
   "metadata": {
    "id": "UKEF1GYqtXSv"
   },
   "source": [
    "### Main (Training)"
   ]
  },
  {
   "cell_type": "code",
   "execution_count": null,
   "metadata": {
    "id": "1dc-ZONUfLHe",
    "tags": []
   },
   "outputs": [],
   "source": [
    "attentions = []\n",
    "\n",
    "for epoch in range(t_config.epoch):\n",
    "\n",
    "    start = time.time()\n",
    "    epoch_loss.reset_states()\n",
    "    epoch_accuracy.reset_states()\n",
    "    dataset_iter = iter(batched_dataset)\n",
    "\n",
    "    t = tqdm(range(n_iter), desc=\"Epoch: {:03d}, Loss: {:.3f}, Accuracy: {:.3%}\".format(0, 0, 0), position=0, leave=True)\n",
    "    for _ in t:\n",
    "        batch = next(dataset_iter)\n",
    "        log_batch = batch[0]\n",
    "        labels = batch[1]\n",
    "\n",
    "        # Returns Eager Tensor for Predictions\n",
    "#         tf.summary.trace_on()\n",
    "#         tf.profiler.experimental.start(SOURCE + t_config.logdir)\n",
    "\n",
    "#         with writer.as_default():\n",
    "        transforer_ret = train_step(log_batch, labels)\n",
    "        attentions.append(transformer_ret)\n",
    "          # with tf.summary.record_if(True):\n",
    "\n",
    "#             tf.summary.trace_export(\n",
    "#               name = \"training_trace\",\n",
    "#               step=0,\n",
    "#               profiler_outdir=SOURCE + t_config.logdir\n",
    "#             )\n",
    "\n",
    "#         tf.profiler.experimental.stop()\n",
    "#         tf.summary.trace_off()\n",
    "\n",
    "#         checkpoint.step.assign_add(1)\n",
    "\n",
    "#         if int(checkpoint.step) % 10 == 0:\n",
    "#             save_path = checkpoint_manager.save()\n",
    "\n",
    "        t.set_description(desc=\"Epoch: {:03d}, Loss: {:.3f}, Accuracy: {:.3%} \".format(epoch,\n",
    "                                                                    epoch_loss.result(),\n",
    "                                                                    epoch_accuracy.result()))\n",
    "        t.refresh()"
   ]
  },
  {
   "cell_type": "code",
   "execution_count": null,
   "metadata": {},
   "outputs": [],
   "source": [
    "joblib.dump(acc, SOURCE + '/results/attention.joblib')"
   ]
  },
  {
   "cell_type": "code",
   "execution_count": null,
   "metadata": {},
   "outputs": [],
   "source": [
    "joblib.dump(Rs, SOURCE + '/results/Rs.joblib')"
   ]
  },
  {
   "cell_type": "code",
   "execution_count": null,
   "metadata": {},
   "outputs": [],
   "source": []
  }
 ],
 "metadata": {
  "colab": {
   "collapsed_sections": [
    "ITSJA5hWASDn",
    "0JtgL-iQkqj2"
   ],
   "include_colab_link": true,
   "machine_shape": "hm",
   "name": "LongRunTransformer.ipynb",
   "provenance": [],
   "toc_visible": true
  },
  "kernelspec": {
   "display_name": "Python 3 (ipykernel)",
   "language": "python",
   "name": "python3"
  },
  "language_info": {
   "codemirror_mode": {
    "name": "ipython",
    "version": 3
   },
   "file_extension": ".py",
   "mimetype": "text/x-python",
   "name": "python",
   "nbconvert_exporter": "python",
   "pygments_lexer": "ipython3",
   "version": "3.8.8"
  }
 },
 "nbformat": 4,
 "nbformat_minor": 4
}
