{
 "cells": [
  {
   "cell_type": "code",
   "execution_count": 2,
   "id": "sacred-portuguese",
   "metadata": {},
   "outputs": [
    {
     "name": "stdout",
     "output_type": "stream",
     "text": [
      "Collecting drain3\n",
      "  Downloading drain3-0.9.3.tar.gz (13 kB)\n",
      "Collecting jsonpickle==1.5.1\n",
      "  Downloading jsonpickle-1.5.1-py2.py3-none-any.whl (37 kB)\n",
      "Collecting cachetools==4.2.1\n",
      "  Downloading cachetools-4.2.1-py3-none-any.whl (12 kB)\n",
      "Building wheels for collected packages: drain3\n",
      "  Building wheel for drain3 (setup.py) ... \u001b[?25ldone\n",
      "\u001b[?25h  Created wheel for drain3: filename=drain3-0.9.3-py3-none-any.whl size=16394 sha256=98c906382dc8aae6e0a9bae5f85b5bf5e8b6d643dc3dc45d348d3244f72446f3\n",
      "  Stored in directory: /home/jovyan/.cache/pip/wheels/43/17/4e/35daa9f4c82e0d1cf2da736efb423ffcfc18ee370209dfdd6c\n",
      "Successfully built drain3\n",
      "Installing collected packages: jsonpickle, cachetools, drain3\n",
      "Successfully installed cachetools-4.2.1 drain3-0.9.3 jsonpickle-1.5.1\n"
     ]
    }
   ],
   "source": [
    "!pip install drain3"
   ]
  },
  {
   "cell_type": "code",
   "execution_count": 3,
   "id": "covered-blend",
   "metadata": {},
   "outputs": [],
   "source": [
    "from scipy import stats \n",
    "from drain3.drain import Drain\n",
    "from matplotlib import pyplot as plt\n",
    "\n",
    "import joblib\n",
    "import numpy as np\n",
    "import seaborn as sns\n",
    "import pandas as pd"
   ]
  },
  {
   "cell_type": "markdown",
   "id": "frank-shoot",
   "metadata": {},
   "source": [
    "### Import Cluster Hit Arrays"
   ]
  },
  {
   "cell_type": "code",
   "execution_count": 16,
   "id": "potential-capacity",
   "metadata": {},
   "outputs": [],
   "source": [
    "cluster_hits = joblib.load('/home/jovyan/results/matrices_dict.joblib')"
   ]
  },
  {
   "cell_type": "code",
   "execution_count": 17,
   "id": "bright-indian",
   "metadata": {},
   "outputs": [],
   "source": [
    "containers = joblib.load('/home/jovyan/results/containers.joblib')"
   ]
  },
  {
   "cell_type": "code",
   "execution_count": 18,
   "id": "separated-nylon",
   "metadata": {},
   "outputs": [],
   "source": [
    "labels = joblib.load('/home/jovyan/results/labels.joblib')"
   ]
  },
  {
   "cell_type": "code",
   "execution_count": 19,
   "id": "cutting-amazon",
   "metadata": {},
   "outputs": [],
   "source": [
    "collections = joblib.load('/home/jovyan/results/collections.joblib')"
   ]
  },
  {
   "cell_type": "code",
   "execution_count": 20,
   "id": "other-context",
   "metadata": {},
   "outputs": [],
   "source": [
    "dd = joblib.load('/home/jovyan/results/drain_dict.joblib')"
   ]
  },
  {
   "cell_type": "markdown",
   "id": "approved-regression",
   "metadata": {},
   "source": [
    "### Record Means"
   ]
  },
  {
   "cell_type": "code",
   "execution_count": 77,
   "id": "protecting-pierce",
   "metadata": {},
   "outputs": [],
   "source": [
    "# The cluster_hits array has the following key structure: [collection][label][container]\n",
    "means_dict = {}\n",
    "\n",
    "for idx, col_val in cluster_hits.items():\n",
    "    means_dict[idx] = {}\n",
    "    for label, l_val in col_val.items():\n",
    "        means_dict[idx][label] = {}\n",
    "        for container, c_val in l_val.items():\n",
    "            Mu = stats.trim_mean(c_val, axis=1, proportiontocut=0.05)\n",
    "            means_dict[idx][label][container] = Mu"
   ]
  },
  {
   "cell_type": "markdown",
   "id": "destroyed-scheduling",
   "metadata": {},
   "source": [
    "### Build Poisson Distributions [Depreciated]"
   ]
  },
  {
   "cell_type": "code",
   "execution_count": null,
   "id": "minute-wrestling",
   "metadata": {},
   "outputs": [],
   "source": [
    "# The cluster_hits array has the following key structure: [collection][label][container]\n",
    "p_dict = {}\n",
    "\n",
    "for idx, col_val in cluster_hits.items():\n",
    "    p_dict[idx] = {}\n",
    "    for label, l_val in col_val.items():\n",
    "        p_dict[idx][label] = {}\n",
    "        for container, c_val in l_val.items():\n",
    "            p_dict[idx][label][container] = {}\n",
    "            Mu = np.mean(c_val, axis=1, proportiontocut=0.05)\n",
    "            drain_model = dd[container]\n",
    "            for cluster in drain_model.clusters:\n",
    "                p_model = poisson(Mu[cluster.cluster_id-1])\n",
    "                p_dict[idx][label][container][cluster.get_template()] = p_model"
   ]
  },
  {
   "cell_type": "code",
   "execution_count": 78,
   "id": "macro-addition",
   "metadata": {},
   "outputs": [
    {
     "data": {
      "text/plain": [
       "{'core.soaesb-dead-soa-process',\n",
       " 'healthy',\n",
       " 'newscene-bundle-stopped',\n",
       " 'nitf-messaging-bundle-stopped'}"
      ]
     },
     "execution_count": 78,
     "metadata": {},
     "output_type": "execute_result"
    }
   ],
   "source": [
    "labels"
   ]
  },
  {
   "cell_type": "code",
   "execution_count": 85,
   "id": "cloudy-reynolds",
   "metadata": {},
   "outputs": [],
   "source": [
    "A = [1, 2]"
   ]
  },
  {
   "cell_type": "code",
   "execution_count": 86,
   "id": "outdoor-insurance",
   "metadata": {},
   "outputs": [
    {
     "data": {
      "text/plain": [
       "[1, 2]"
      ]
     },
     "execution_count": 86,
     "metadata": {},
     "output_type": "execute_result"
    }
   ],
   "source": [
    "A"
   ]
  },
  {
   "cell_type": "markdown",
   "id": "german-viking",
   "metadata": {},
   "source": [
    "### Construct Means DataFrame"
   ]
  },
  {
   "cell_type": "code",
   "execution_count": 103,
   "id": "still-photography",
   "metadata": {},
   "outputs": [],
   "source": [
    "'''\n",
    "We will encode each label as such:\n",
    "    1 := 'core.soaesb-dead-soa-process'\n",
    "    2 := 'healthy'\n",
    "    3 := 'newscene-bundle-stopped'\n",
    "    4 := 'nitf-messaging-bundle-stopped'\n",
    "'''\n",
    "\n",
    "means = []\n",
    "means_labels = []\n",
    "clusters = []\n",
    "indices = []\n",
    "\n",
    "for idx, col_val in cluster_hits.items():\n",
    "    for label, l_val in col_val.items():\n",
    "        for container, c_val in l_val.items():\n",
    "            drain_model = dd[container]\n",
    "            means += list(means_dict[idx][label][container])\n",
    "            means_labels += [label]*len(means_dict[idx][label][container])\n",
    "            indices += [idx]*len(means_dict[idx][label][container])\n",
    "            for cluster in drain_model.clusters:\n",
    "                clusters.append(cluster.get_template())\n",
    "\n",
    "data = {'mean': means, \n",
    "        'index': indices,\n",
    "        'label': means_labels,\n",
    "        'cluster': clusters}\n",
    "\n",
    "df = pd.DataFrame(data)"
   ]
  },
  {
   "cell_type": "code",
   "execution_count": 135,
   "id": "familiar-quarterly",
   "metadata": {},
   "outputs": [],
   "source": [
    "'''\n",
    "We will encode each label as such:\n",
    "    1 := 'core.soaesb-dead-soa-process'\n",
    "    2 := 'healthy'\n",
    "    3 := 'newscene-bundle-stopped'\n",
    "    4 := 'nitf-messaging-bundle-stopped'\n",
    "'''\n",
    "\n",
    "z_means = []\n",
    "z_means_labels = []\n",
    "z_clusters = []\n",
    "z_indices = []\n",
    "z_containers = []\n",
    "\n",
    "for idx, col_val in cluster_hits.items():\n",
    "    for label, l_val in col_val.items():\n",
    "        for container, c_val in l_val.items():\n",
    "            drain_model = dd[container]\n",
    "            for cluster in drain_model.clusters:\n",
    "                if means_dict[idx][label][container][cluster.cluster_id-1] > 0:\n",
    "                    z_clusters.append(cluster.get_template())\n",
    "                    z_means.append(means_dict[idx][label][container][cluster.cluster_id-1])\n",
    "                    z_indices.append(idx)\n",
    "                    z_means_labels.append(label)\n",
    "                    z_containers.append(container)\n",
    "\n",
    "z_data = {'mean': z_means, \n",
    "          'index': z_indices,\n",
    "          'label': z_means_labels,\n",
    "          'cluster': z_clusters,\n",
    "          'container': z_containers}\n",
    "\n",
    "zdf = pd.DataFrame(z_data)"
   ]
  },
  {
   "cell_type": "code",
   "execution_count": 15,
   "id": "improved-knitting",
   "metadata": {},
   "outputs": [],
   "source": [
    "d_total_hits = []\n",
    "d_labels = []\n",
    "d_clusters = []\n",
    "d_indices = []\n",
    "d_containers = []\n",
    "\n",
    "for idx, col_val in cluster_hits.items():\n",
    "    for label, l_val in col_val.items():\n",
    "        for container, c_val in l_val.items():\n",
    "            drain_model = dd[container]\n",
    "            for cluster in drain_model.clusters:\n",
    "                hits = list(cluster_hits[idx][label][container][cluster.cluster_id-1])\n",
    "                n = len(hits)\n",
    "                d_clusters+=[cluster.get_template()]*n\n",
    "                d_total_hits+=hits\n",
    "                d_indices+=[idx]*n\n",
    "                d_labels+=[label]*n\n",
    "                d_containers+=[container]*n\n",
    "\n",
    "data = {'hits': d_total_hits, \n",
    "        'index': d_indices,\n",
    "        'label': d_labels,\n",
    "        'cluster': d_clusters,\n",
    "        'container': d_containers}\n",
    "\n",
    "df = pd.DataFrame(data)"
   ]
  },
  {
   "cell_type": "code",
   "execution_count": 10,
   "id": "looking-governor",
   "metadata": {},
   "outputs": [
    {
     "name": "stdout",
     "output_type": "stream",
     "text": [
      "7448034\n",
      "7448034\n",
      "7448034\n",
      "7448034\n",
      "7448034\n"
     ]
    }
   ],
   "source": [
    "for _, item in data.items():\n",
    "    print(len(item))"
   ]
  },
  {
   "cell_type": "code",
   "execution_count": 22,
   "id": "awful-scenario",
   "metadata": {},
   "outputs": [
    {
     "data": {
      "text/plain": [
       "{'1.solr.soaesb',\n",
       " '1.zookeeper.soaesb',\n",
       " 'brokerStack_broker-master-1.1.bozouia5km2umeysji93tocfq',\n",
       " 'brokerStack_broker-master-1.1.ep8iqm0i5tgumu6bf0nsj3llr',\n",
       " 'brokerStack_broker-master-1.1.p09hgju7bv1ygi8tdha11id8a',\n",
       " 'core.soaesb',\n",
       " 'filebeat',\n",
       " 'grafana.metrics.soaesb',\n",
       " 'haproxyStack_soaesb.1.9sz9m04m5j7zdir3tsdv9peco',\n",
       " 'haproxyStack_soaesb.1.hen5dtnv1r2xvo8aekpgl38qx',\n",
       " 'haproxyStack_soaesb.1.u50xthv1u16xnps5eoe4wgh26',\n",
       " 'healthcheck',\n",
       " 'mmsStack_mms-app.1.1gdmwxttue7gajxqw50e3lqdc',\n",
       " 'mmsStack_mms-app.1.j9jzami3rko4pcnh9lq7k1511',\n",
       " 'mmsStack_mms-app.1.p4jfi3y3966d2p2902j9i8r32',\n",
       " 'periodicCatalogUpdaterStack_periodic-catalog-updater-app.1.09oln2375lgzw8nqwi0h6km8o',\n",
       " 'prometheus.metrics.soaesb',\n",
       " 'soaesb-diagnostic-ai-log-collection'}"
      ]
     },
     "execution_count": 22,
     "metadata": {},
     "output_type": "execute_result"
    }
   ],
   "source": [
    "containers"
   ]
  },
  {
   "cell_type": "code",
   "execution_count": null,
   "id": "altered-briefing",
   "metadata": {},
   "outputs": [],
   "source": [
    "sdf = df[df['container']=='core.soaesb']\n",
    "dims = (25, 12)\n",
    "#fig, ax = plt.subplots(figsize=dims)\n",
    "g = sns.displot(sdf, x=\"hits\", row=\"cluster\", col=\"label\")\n",
    "#ax.tick_params(labelbottom=False) "
   ]
  },
  {
   "cell_type": "markdown",
   "id": "desperate-vancouver",
   "metadata": {},
   "source": [
    "### Display the poisson distributions"
   ]
  },
  {
   "cell_type": "markdown",
   "id": "suited-christopher",
   "metadata": {},
   "source": [
    "#### Generate plot data"
   ]
  },
  {
   "cell_type": "code",
   "execution_count": 64,
   "id": "tribal-campaign",
   "metadata": {},
   "outputs": [],
   "source": [
    "collection = 1\n",
    "container = 'grafana.metrics.soaesb'\n",
    "drain_model = dd[container]\n",
    "X = {}\n",
    "Y = {}\n",
    "for label in labels:\n",
    "    X[label] = {}\n",
    "    Y[label] = {}\n",
    "    for cluster in drain_model.clusters:\n",
    "        pois = p_dict[collection][label][container][cluster.get_template()]\n",
    "        x = np.arange(poisson.ppf(0.01, pois.mean()),\n",
    "                      poisson.ppf(0.99, pois.mean()))\n",
    "        X[label][cluster.get_template()] = x\n",
    "        Y[label][cluster.get_template()] = poisson.pmf(x, pois.mean())"
   ]
  },
  {
   "cell_type": "markdown",
   "id": "female-sheet",
   "metadata": {},
   "source": [
    "#### Display plots"
   ]
  },
  {
   "cell_type": "code",
   "execution_count": 73,
   "id": "developing-perspective",
   "metadata": {},
   "outputs": [
    {
     "data": {
      "image/png": "[encoded data removed]",
      "text/plain": [
       "<Figure size 432x288 with 2 Axes>"
      ]
     },
     "metadata": {},
     "output_type": "display_data"
    }
   ],
   "source": [
    "fig, axes = plt.subplots(len(drain_model.clusters), 1)\n",
    "sns.set()\n",
    "fig.suptitle(f'Poisson PMFs for {container}')\n",
    "\n",
    "for cluster in drain_model.clusters:\n",
    "    count = 0\n",
    "    data = []\n",
    "    for label in labels:\n",
    "        sns.barplot(y=Y[label][cluster.get_template()], ax=axes[count])\n",
    "    count+=1"
   ]
  },
  {
   "cell_type": "code",
   "execution_count": 66,
   "id": "colored-republican",
   "metadata": {},
   "outputs": [],
   "source": [
    "[y for y in Y[label]['<*> lvl=info msg=\"Alert Rule returned no data\" logger=alerting.evalContext ruleId=3 name=\"Panel Title alert\" changing state to=keep_state'] for label in labels]"
   ]
  },
  {
   "cell_type": "code",
   "execution_count": 67,
   "id": "charitable-genealogy",
   "metadata": {},
   "outputs": [
    {
     "data": {
      "text/plain": [
       "[]"
      ]
     },
     "execution_count": 67,
     "metadata": {},
     "output_type": "execute_result"
    }
   ],
   "source": []
  },
  {
   "cell_type": "code",
   "execution_count": null,
   "id": "acknowledged-victory",
   "metadata": {},
   "outputs": [],
   "source": []
  }
 ],
 "metadata": {
  "kernelspec": {
   "display_name": "Python 3",
   "language": "python",
   "name": "python3"
  },
  "language_info": {
   "codemirror_mode": {
    "name": "ipython",
    "version": 3
   },
   "file_extension": ".py",
   "mimetype": "text/x-python",
   "name": "python",
   "nbconvert_exporter": "python",
   "pygments_lexer": "ipython3",
   "version": "3.8.8"
  }
 },
 "nbformat": 4,
 "nbformat_minor": 5
}
